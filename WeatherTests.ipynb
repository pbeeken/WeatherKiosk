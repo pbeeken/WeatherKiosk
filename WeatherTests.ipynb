{
 "cells": [
  {
   "cell_type": "markdown",
   "metadata": {
    "id": "_gxUkGKVrPAT"
   },
   "source": [
    "# Tides\n",
    "As a prelude to developing a tide clock I wanted to explore the IoT access to tide data from Ocean.org and [noaa.gov](https://tidesandcurrents.noaa.gov/noaatidepredictions.html?id=8518490) sites\n",
    "\n",
    "*n.b. some of this work started in CoLab so the code sections may contain the `#@commands` unique to that implementation of Jupyter*"
   ]
  },
  {
   "cell_type": "markdown",
   "metadata": {},
   "source": [
    "### Libraries"
   ]
  },
  {
   "cell_type": "code",
   "execution_count": 2,
   "metadata": {
    "executionInfo": {
     "elapsed": 245,
     "status": "ok",
     "timestamp": 1641348481966,
     "user": {
      "displayName": "Paul Beeken",
      "photoUrl": "https://lh3.googleusercontent.com/a-/AOh14Gi1Ton6VWWxq_RY5nDQCJKS3LBl8ht5Vswpk1AMbMI=s64",
      "userId": "04993528495221570139"
     },
     "user_tz": 300
    },
    "id": "fVYnix0jrzaJ"
   },
   "outputs": [
    {
     "data": {
      "text/plain": [
       "'2025-02-10T09:12:26.081084-05:00'"
      ]
     },
     "execution_count": 2,
     "metadata": {},
     "output_type": "execute_result"
    }
   ],
   "source": [
    "# Non CoLab we want to see the graphs inline (not notebook which makes it interactive)\n",
    "%matplotlib inline\n",
    "\n",
    "#@title Basic Libraries\n",
    "#@markdown data handling and graphics\n",
    "import pandas as pd\n",
    "# First the usual imports:\n",
    "import numpy as np\n",
    "# matplotlib is the tool that will create the graphs\n",
    "import matplotlib.pyplot as plt\n",
    "\n",
    "#@markdown Time libraries\n",
    "from datetime import tzinfo, timedelta, datetime, date\n",
    "from pytz import timezone  # should already be part of pandas but it doesn't hurt to do it again.\n",
    "EST = timezone('America/New_York')\n",
    "\n",
    "import time\n",
    "# quick test of 'aware' time\n",
    "datetime.now(tz=EST).isoformat()"
   ]
  },
  {
   "cell_type": "markdown",
   "metadata": {},
   "source": [
    "### Common Elements "
   ]
  },
  {
   "cell_type": "code",
   "execution_count": null,
   "metadata": {},
   "outputs": [],
   "source": [
    "# With each call we flip the units so we toggle back and\n",
    "# forth between metric and imperial (we have an international audience)\n",
    "gTideUnit = 'Tide [ft]' # 'Tide [m]'  # Default units\n",
    "# values for REST call\n",
    "measure = (\"english\", \"metric\")\n",
    "\n",
    "stationsNearUs = {  'NewRochelleNY':  \"8518490\",\n",
    "                    'RyePlaylandNY':  \"8518091\",\n",
    "                    'CosCobCT':       \"8469549\",\n",
    "                    'ThrogsNeckBrNY': \"8518526\",\n",
    "                    'KingsPointNY':   \"8516945\",\n",
    "                    'BatteryNY':      \"8518750\",\n",
    "                    'BridgeportCT':   \"8467150\",\n",
    "                    'NewHavenCT':     \"8465705\",\n",
    "                    \"NewboldPA\":      \"8548989\",  # Way up the Chesapeake River\n",
    "                    'TurkeyPointNY':  \"8518962\",  # Way up the Hudson River\n",
    "                    }\n",
    "\n",
    "tideStation = stationsNearUs['RyePlaylandNY']  # Closest one to us with reliable data\n",
    "# Visual check at [Mamaroneck Web Cam](https://www.weatherbug.com/weather-camera/?cam=MMBPC) for checking the tides?\n"
   ]
  },
  {
   "cell_type": "markdown",
   "metadata": {},
   "source": [
    "## Working Code"
   ]
  },
  {
   "cell_type": "markdown",
   "metadata": {},
   "source": [
    "### library routines in `tidedata.py`"
   ]
  },
  {
   "cell_type": "code",
   "execution_count": null,
   "metadata": {
    "cellView": "form",
    "executionInfo": {
     "elapsed": 270,
     "status": "ok",
     "timestamp": 1641348514986,
     "user": {
      "displayName": "Paul Beeken",
      "photoUrl": "https://lh3.googleusercontent.com/a-/AOh14Gi1Ton6VWWxq_RY5nDQCJKS3LBl8ht5Vswpk1AMbMI=s64",
      "userId": "04993528495221570139"
     },
     "user_tz": 300
    },
    "id": "wOebi0dENygo"
   },
   "outputs": [],
   "source": [
    "###\n",
    "# fetchTideData\n",
    "# Get raw data from the NOAA tide database/calculator. Tide information is generated based on a harmonic analysis of\n",
    "# many years of data. The parameters change every 20 years or so so I could just fetch the numbers but NOAA is cagey\n",
    "# about how to input the time (what epoch constitutes 0 for example) So I pull the data based on our location.  What\n",
    "# I do to spare the server is to cache the result so I only pull the data once per day.  This way my 'tide' clock can\n",
    "# update the current pointer once per 5 minutes without hammering on the server.  This is just the inet fetch part.\n",
    "#\n",
    "def fetchTideData(station, begDate, endDate, datum=\"MLLW\", interval=15, timezone=\"LST_LDT\", units=\"english\", clock=\"24hour\"):\n",
    "  \"\"\"\n",
    "  fetchTideData\n",
    "  Fetch tide from NOAA Site using REST -> pandas DataFrame with tide levels\n",
    "  required arguments:\n",
    "    station -- StationID\n",
    "    begDate -- start date (only fetches using day)\n",
    "    endDate -- end date\n",
    "\n",
    "    units -- \"english\" | \"metric\" # units\n",
    "    interval -- \"hilo\" | \"h\" | 30 | 15 | 6 | 1 # hi and lo, hourly, min intervals\n",
    "    datum -- \"MLLW\" | \"STND\" | \"MHHW\" | \"MHW\" | \"MTL\" | \"MLW\" | \"MLLW\" | \"NAVD\" # height references\n",
    "    tzone -- \"LST_LDT\" | \"LST\" | \"GMT\" # Local with dst, local or GMT\n",
    "    clock -- \"24hour\" | \"12hour\" # clock style\n",
    "\n",
    "    This routine checks a local cache cache so that we don't have to fetch that doesn't change\n",
    "    that much over a 24 hour period.\n",
    "\n",
    "  \"\"\"\n",
    "  noaaSite = [f\"https://tidesandcurrents.noaa.gov/api/datagetter?product=predictions&application=NOS.COOPS.TAC.WL\",\n",
    "              f\"&begin_date={begDate.strftime('%Y%m%d')}&end_date={endDate.strftime('%Y%m%d')}\",\n",
    "              f\"&datum={datum}\",\n",
    "              f\"&station={station}\",\n",
    "              f\"&time_zone={timezone}&clock={clock}\",\n",
    "              f\"&units={units}&interval={interval}&format=csv\",\n",
    "              ]\n",
    "\n",
    "  # return \"\".join(noaaSite)\n",
    "  tideDF = pd.read_csv(\"\".join(noaaSite))\n",
    "\n",
    "  # First we need to rename some of the columns to take out extraneous spaces\n",
    "  repl = dict([(s, s.strip()) for s in tideDF.columns])\n",
    "  tideDF = tideDF.rename(repl, axis='columns')\n",
    "\n",
    "  # convert string dates to proper date times and other conveniences for future expansion\n",
    "  #TODO: Consider only fetching GMT but passing tz object as local timezone\n",
    "  tideDF['DateTime'] = tideDF['Date Time'].apply(lambda x:datetime.strptime(x, \"%Y-%m-%d %H:%M\").replace(tzinfo=EST))\n",
    "\n",
    "  # Provide a column with delta hours for calculations (used mostly for debugging)\n",
    "  minTime = tideDF['DateTime'].min()\n",
    "  tideDF['Hours'] = tideDF['DateTime'].apply(lambda x:(x-minTime).total_seconds()/3600)\n",
    "\n",
    "  # Break out the date and time as a strings for comparison tricks\n",
    "  tideDF['Date'] = tideDF['Date Time'].apply(lambda x: x[:10])\n",
    "  tideDF['Time'] = tideDF['Date Time'].apply(lambda x: x[11:])\n",
    "\n",
    "  # Regardless of which units we fetched generate a column of the other so we don't need to duplicate calls.\n",
    "  #TODO: Consider only getting metric and provide column of imperial as an option.\n",
    "  if units=='english':\n",
    "    # add the other units to the list\n",
    "    tideDF = tideDF.rename({'Prediction': 'Tide [ft]'}, axis='columns')\n",
    "    tideDF['Tide [m]'] = tideDF['Tide [ft]'] / 3.28084\n",
    "    tideDF['Units'] = 'ft Feet'\n",
    "  else:\n",
    "    tideDF = tideDF.rename({'Prediction': 'Tide [m]'}, axis='columns')\n",
    "    tideDF['Tide [ft]'] = tideDF['Tide [m]'] * 3.28084\n",
    "    tideDF['Units'] = 'm  Meters'\n",
    "\n",
    "  return tideDF"
   ]
  },
  {
   "cell_type": "code",
   "execution_count": null,
   "metadata": {},
   "outputs": [],
   "source": [
    "###\n",
    "# fetchDailyTides\n",
    "# The entry point for the getting of regular pieces of information about tides.  This routine checks the local\n",
    "# store and if it is under 24 hours old uses the local cache. Otherwise it refreshes the cache.\n",
    "#\n",
    "def fetchDailyTides(fromTideStation):\n",
    "    \"\"\"\n",
    "    fetchDailyTides\n",
    "    Fetch daily tide predictions to get the tide data for a few days ahead -> (detailDF, extremaDF)\n",
    "    This method checks for the existance and timelyness of a local store before going to the web.\n",
    "    before fethcing from the NOAA site.\n",
    "    fromTideStation -- NOAA tide station code\n",
    "    \"\"\"\n",
    "    # Local store\n",
    "    detailTidesFile = 'resources/tmp/DetailTides.zip'  # 15 minute intervals (for smooth graph)\n",
    "    extremTidesFile = 'resources/tmp/ExtremTides.zip'  # Just the hi and low values for extrema\n",
    "\n",
    "    # Fetch this data once per day.  And run all the subsequent graphics from the local store.\n",
    "    now       = datetime.now(tz=EST)\n",
    "    today     = now.date()\n",
    "\n",
    "    # Proper way to set up timeshifts.\n",
    "    yesterday = now - timedelta(days=0)\n",
    "    tomorrow  = now + timedelta(days=2)\n",
    "\n",
    "    # First look for existing data, if not found: create, if found: load and test for age\n",
    "    try:\n",
    "        print(\"\\t...try to read saved data\")\n",
    "        tideDetailDF = pd.read_pickle(detailTidesFile, compression='infer')\n",
    "        tideExtremDF = pd.read_pickle(extremTidesFile, compression='infer')\n",
    "    except FileNotFoundError:\n",
    "        print(\"\\t...file doesn't exist, creating\")\n",
    "        # Get the data\n",
    "        tideDetailDF = fetchTideData(fromTideStation, yesterday.date(), tomorrow.date())\n",
    "        tideDetailDF.to_pickle(detailTidesFile, compression='infer')\n",
    "        tideExtremDF = fetchTideData(fromTideStation, yesterday.date(), tomorrow.date(), interval='hilo')\n",
    "        tideExtremDF.to_pickle(extremTidesFile, compression='infer')\n",
    "\n",
    "    # Check to see if the data is stale (older than one day)...\n",
    "    if tideDetailDF['DateTime'][1].date()!=today:\n",
    "        tideDetailDF = fetchTideData(fromTideStation, yesterday.date(), tomorrow.date())\n",
    "        tideDetailDF.to_pickle(detailTidesFile, compression='infer')\n",
    "\n",
    "    # Check to see if the data is stale (older than one day)...\n",
    "    if tideExtremDF['DateTime'][1].date()!=today:\n",
    "        tideExtremDF = fetchTideData(fromTideStation, yesterday.date(), tomorrow.date(), interval='hilo')\n",
    "        tideExtremDF.to_pickle(extremTidesFile, compression='infer')\n",
    "\n",
    "    # The REST Call always returns at least 3 days of infomraiont (can't just return the next 24 hours)\n",
    "    # so we have to truncate the list.\n",
    "    selDet = tideDetailDF['DateTime']<tomorrow\n",
    "    selExt = tideExtremDF['DateTime']<tomorrow\n",
    "\n",
    "    tideDetailDF = tideDetailDF[selDet]\n",
    "    tideExtremDF = tideExtremDF[selExt]\n",
    "    print(f\"\\t...start: {tideDetailDF['DateTime'].iloc[0]} end:{tideDetailDF['DateTime'].iloc[-1]}\")\n",
    "\n",
    "    return (tideDetailDF, tideExtremDF)"
   ]
  },
  {
   "cell_type": "markdown",
   "metadata": {},
   "source": [
    "### Graph Routines in `TidesGraph.py`"
   ]
  },
  {
   "cell_type": "code",
   "execution_count": 7,
   "metadata": {},
   "outputs": [],
   "source": [
    "###\n",
    "# makeTideGraph\n",
    "# The business end that makes the fancy graphic that includes a moing line that shows out current time\n",
    "# against a graph of the tide height.\n",
    "#\n",
    "def makeTideGraph(detailDF, extremaDF):\n",
    "    \"\"\"\n",
    "    makeTideGraph\n",
    "    Make tide ala NOAA from two sets of pandas DataFrames:\n",
    "    detailDF -- Detailed predicted water levels for complete graph\n",
    "    extremeDF -- The extrema (highs and lows)\n",
    "    \"\"\"\n",
    "    global gTideUnit # unit switch flag\n",
    "\n",
    "    graphFile = \"resources/tmp/tideGraph.png\"\n",
    "\n",
    "    import matplotlib.transforms\n",
    "    import matplotlib.dates as mdates\n",
    "\n",
    "    today = datetime.now(tz=EST).date()\n",
    "\n",
    "    # Set up the plot and plot the data\n",
    "    # px = 1/plt.rcParams['figure.dpi']  # pixel in inches (doesn't work if bbox is 'tight')\n",
    "    fig, ax = plt.subplots(figsize=(11.5, 4))\n",
    "    # fig, ax = plt.subplots(figsize=(13, 5))\n",
    "\n",
    "    ax.plot(detailDF['DateTime'], detailDF[gTideUnit], color=\"blue\", alpha=0.8)\n",
    "\n",
    "    # Markers at extrema with square marks\n",
    "    ax.scatter(extremaDF['DateTime'], extremaDF[gTideUnit], color=\"blue\", marker=\"s\")\n",
    "    for index, row in extremaDF.iterrows():\n",
    "        xy = (row['DateTime'], row[gTideUnit])\n",
    "        u = gTideUnit.split(\"[\")[1].split(\"]\")[0]   # row['Units']\n",
    "        ax.annotate(f'{xy[1]:5.1f} {u[:2]}', xy=xy, xytext=(8,0), textcoords='offset points', color='blue')\n",
    "\n",
    "    # Set the axis labels\n",
    "    # ax.set_xlabel(\"Date and Time\", fontsize=14, fontstyle='italic', color='SlateGray')\n",
    "    ax.set_ylabel(f\"Tide Level [{u}]\", fontsize=14, fontstyle='italic', color='SlateGray')\n",
    "    # ~put an alternate axis in meters~ Alternate between meters and feet in 5min intervals\n",
    "\n",
    "    # Put a vetical bar that marks right now.\n",
    "    now = datetime.now(tz=EST)\n",
    "    (ymin, ymax) = ax.get_ylim()\n",
    "    ax.annotate(f\"Current Time   {now.time().strftime('%I:%M %p')}\", xy=(now, (ymin+ymax)/2), xytext=(-15,-30), textcoords='offset points', color='green', rotation=90.0, alpha=0.6 )\n",
    "    ax.vlines(now, ymin=ymin, ymax=ymax, transform=ax.get_xaxis_transform(), colors=\"green\", linewidth=4, alpha=0.7)\n",
    "\n",
    "    #Fix the time axis\n",
    "    ax.xaxis.set_major_locator(mdates.DayLocator(tz=EST))\n",
    "    ax.xaxis.set_minor_locator(mdates.HourLocator(interval=4, tz=EST))\n",
    "\n",
    "    ax.xaxis.set_major_formatter(mdates.DateFormatter('%a, %b %d', tz=EST))\n",
    "    ax.xaxis.set_minor_formatter(mdates.DateFormatter('%H:%M', tz=EST))\n",
    "\n",
    "    dx = 0.; dy = -10/72.\n",
    "    offset = matplotlib.transforms.ScaledTranslation(dx, dy, fig.dpi_scale_trans)\n",
    "    # Create offset transform by 5 points in x direction\n",
    "    for label in ax.xaxis.get_majorticklabels():\n",
    "        label.set(horizontalalignment='center', color=\"darkred\", fontweight='bold')\n",
    "        label.set_transform(label.get_transform() + offset)\n",
    "\n",
    "    for label in ax.xaxis.get_minorticklabels():\n",
    "        label.set(horizontalalignment='center', color=\"darkred\")\n",
    "\n",
    "    ax.grid(True, which='major', linewidth=2, axis='both', alpha=0.7)\n",
    "    ax.grid(True, which='minor', linestyle=\"--\", axis='both', alpha = 0.5)\n",
    "\n",
    "    # Display here.\n",
    "    # fig.show()\n",
    "    fig.savefig(graphFile, bbox_inches='tight', transparent=True)\n",
    "    plt.close(fig)"
   ]
  },
  {
   "cell_type": "markdown",
   "metadata": {},
   "source": [
    "#### Run above"
   ]
  },
  {
   "cell_type": "code",
   "execution_count": null,
   "metadata": {},
   "outputs": [],
   "source": [
    "# Make the tide graph\n",
    "# Get the data this method tries to fetch from local store first\n",
    "(ryePlayDetailDF, ryePlayExtremDF) = fetchDailyTides(tideStation)\n",
    "\n",
    "# make the pseudo NOAA tide graph\n",
    "makeTideGraph(ryePlayDetailDF, ryePlayExtremDF)"
   ]
  },
  {
   "attachments": {},
   "cell_type": "markdown",
   "metadata": {},
   "source": [
    "### Graph Routines in `tidesGraphic.py`"
   ]
  },
  {
   "cell_type": "code",
   "execution_count": 10,
   "metadata": {},
   "outputs": [],
   "source": [
    "#@markdown Make the fancy image with next tide\n",
    "pathToResources = \"resources/\"\n",
    "gTime = '12'\n",
    "future = 0\n",
    "\n",
    "def makeTideGraphic(extremaDF, detailDF=None):\n",
    "    # make up for image import deprecation\n",
    "    # import PIL\n",
    "    # import urllib.request\n",
    "    \"\"\"\n",
    "    Make tide ala NOAA from two sets of pandas DataFrames:\n",
    "    detailDF -- Detailed predicted water levels for complete graph\n",
    "    extremeDF -- The extrema (highs and lows)\n",
    "    \"\"\"\n",
    "    global gTime\n",
    "\n",
    "    lbl = {'H': 'HIGH', 'L': 'LOW'}\n",
    "\n",
    "    # imageURL = 'https://docs.google.com/drawings/d/e/2PACX-1vRPpyCKk834LQUUwoEWDiopLKIcRscn3AoUPynXzNe6jPRLXWt9TBS90Wwm_MjxVoqezD09hbx_0Sw8/pub?w=225&h=159'\n",
    "    # imageRef = PIL.Image.open(urllib.request.urlopen(imageURL))\n",
    "    imageRef = pathToResources + 'TideBackground.png' # fetch locally (way faster on a pi)\n",
    "    imageOverlay = plt.imread(imageRef)\n",
    "    (hgt,wdt,cols) = imageOverlay.shape\n",
    "\n",
    "    plt.figure(figsize=(3, 3))\n",
    "\n",
    "    implot = plt.imshow(imageOverlay)\n",
    "    # implot.axes.get_xaxis().set_visible(False)\n",
    "    # implot.axes.get_yaxis().set_visible(False)\n",
    "\n",
    "    upcoming = extremaDF[extremaDF['DateTime']>datetime.now(tz=EST)]\n",
    "    nxtTide = upcoming.iloc[0]\n",
    "\n",
    "    if gTime == '24':\n",
    "        plt.text(wdt/2, 40, nxtTide['DateTime'].strftime('%H:%M'), fontsize=26.0, ha='center' )\n",
    "    else:\n",
    "        plt.text(wdt/2, 40, nxtTide['DateTime'].strftime('%I:%M %p'), fontsize=26.0, ha='center' )\n",
    "    plt.text(wdt/2, 80, lbl[nxtTide['Type']], fontweight='heavy', color='blue', fontsize=20.0, ha='center')\n",
    "\n",
    "    if nxtTide['Type'] == 'H':\n",
    "        len = -50\n",
    "    else:\n",
    "        len = 50\n",
    "    plt.arrow(wdt/6, 65-len/4, 0, len, width=6., color='cyan',\n",
    "                length_includes_head=True, alpha=0.6, fill=False, linewidth=2.0)\n",
    "\n",
    "    print(f\"next Tide: '{nxtTide['Type']}' len: '{len}'\")\n",
    "\n",
    "    # Somehwat kludgy since we know the range is between -1 and 10ft\n",
    "    try:\n",
    "        current = detailDF[detailDF['DateTime']>datetime.now(tz=EST)]\n",
    "        nxtTide = current.iloc[future]\n",
    "    finally:\n",
    "        level = nxtTide['Tide [ft]']  # don't care since all we do is scale\n",
    "\n",
    "    # arbitrary scaling so we fit tides in our area range from -1ft to +10ft\n",
    "    sclDepth = (level + 1.5) / 12.0\n",
    "    scaledTideHeight = int(hgt*sclDepth)\n",
    "\n",
    "    print(f\"time: {current.iloc[future]['DateTime'].strftime('%I:%M %p')}, hgt: {hgt}, level: {level:6.2f}, scaleDepth: {sclDepth:6.3f}, scaledHeight: {scaledTideHeight:6d}\")\n",
    "\n",
    "    plt.title('Next Tide At...')\n",
    "    plt.axis('off')\n",
    "    oceanFloor = 20  # bottom in pixel coordinates\n",
    "    t = np.linspace(0, wdt-2, 50)\n",
    "    y = (hgt-oceanFloor) - (scaledTideHeight + 2 * np.cos(t/4)**2)\n",
    "    plt.fill_between(t, hgt-oceanFloor, y, color='SkyBlue', alpha=0.50)\n",
    "\n",
    "    plt.show()\n",
    "    #plt.savefig(pathToResources  + 'tmp/' + 'tideCartoon.png', bbox_inches='tight', transparent=True)\n",
    "    plt.close()\n"
   ]
  },
  {
   "cell_type": "markdown",
   "metadata": {},
   "source": [
    "#### Run Above"
   ]
  },
  {
   "cell_type": "code",
   "execution_count": 8,
   "metadata": {},
   "outputs": [
    {
     "name": "stdout",
     "output_type": "stream",
     "text": [
      "\t...try to read saved data\n",
      "\t...start: 2022-12-21 23:56:00-05:00 end:2022-12-24 16:56:00-05:00\n",
      "Tides - min: -1.14 - max: 8.969\n"
     ]
    }
   ],
   "source": [
    "(ryePlayDetailDF, ryePlayExtremDF) = fetchDailyTides(tideStation)  # run this once for each cartoon\n",
    "print(f\"Tides - min: {ryePlayDetailDF['Tide [ft]'].min()} - max: {ryePlayDetailDF['Tide [ft]'].max()}\")"
   ]
  },
  {
   "cell_type": "code",
   "execution_count": null,
   "metadata": {},
   "outputs": [],
   "source": [
    "# Get the data this method tries to fetch from local store first\n",
    "gTime = '12'\n",
    "futureStart = 0\n",
    "# make the pseudo 'next tide' graphic\n",
    "for i in range(40):\n",
    "    future = futureStart + i\n",
    "    makeTideGraphic(ryePlayExtremDF, ryePlayDetailDF)"
   ]
  },
  {
   "cell_type": "code",
   "execution_count": null,
   "metadata": {},
   "outputs": [],
   "source": []
  },
  {
   "cell_type": "markdown",
   "metadata": {},
   "source": [
    "### Generation Routine in `TidesTable.py`"
   ]
  },
  {
   "cell_type": "code",
   "execution_count": null,
   "metadata": {},
   "outputs": [],
   "source": [
    "#@markdown Make the summary table for the next four tide extrema\n",
    "def makeTideTable(extremaDF):\n",
    "    \"\"\"\n",
    "    Make the html table of the next 4 tide extrema\n",
    "    extremeDF -- The extrema (highs and lows)\n",
    "    \"\"\"\n",
    "    global gTideUnit\n",
    "    lbl = {'H': 'HIGH', 'L': 'LOW'}\n",
    "\n",
    "    now = datetime.now(tz=EST)\n",
    "\n",
    "    tideFile = \"tideTable.html\"\n",
    "    templateFile = \"_\" + tideFile\n",
    "\n",
    "    # pick the units based on gTideUnit\n",
    "\n",
    "    sel = extremaDF['DateTime'] > now\n",
    "    futureTides = extremaDF[sel]\n",
    "\n",
    "    htmlText = futureTides[:4].to_html(\n",
    "#                            columns=['DateTime', 'Time', 'Type', gTideUnit],\n",
    "                            columns=['DateTime', 'Type', gTideUnit],\n",
    "                            index=False,\n",
    "                            border=0,\n",
    "                            formatters={\n",
    "                                gTideUnit: lambda x:f\"{x:6.1f}\",\n",
    "                                'Type': lambda l: lbl[l],\n",
    "                                'DateTime': lambda dt: dt.strftime(\"%a %I:%M %p\")\n",
    "                                },\n",
    "#                            table_id = \"tideTable\"\n",
    "                            )\n",
    "\n",
    "    #open the template file\n",
    "    with open(templateFile, \"r\") as templateFile:\n",
    "        templateHTML = templateFile.readlines()\n",
    "\n",
    "    # print( (\"\".join(templateHTML)).replace('<!--Table Place-->', htmlText) )\n",
    "    # print( htmlText )\n",
    "\n",
    "    # copy the html table into the text and write out a new file\n",
    "    with open(tideFile, \"w\") as htmlFile:\n",
    "        htmlFile.write( (\"\".join(templateHTML)).replace('<!--Table Place-->', htmlText) )\n"
   ]
  },
  {
   "cell_type": "markdown",
   "metadata": {},
   "source": [
    "#### Run Above"
   ]
  },
  {
   "cell_type": "code",
   "execution_count": 10,
   "metadata": {},
   "outputs": [
    {
     "name": "stdout",
     "output_type": "stream",
     "text": [
      "\t...try to read saved data\n",
      "\t...start: 2022-01-28 23:56:00-05:00 end:2022-01-31 13:41:00-05:00\n"
     ]
    }
   ],
   "source": [
    "# Get the data this method tries to fetch from local store first\n",
    "(ryePlayDetailDF, ryePlayExtremDF) = fetchDailyTides(tideStation)\n",
    "\n",
    "# make the pseudo NOAA tide graph\n",
    "makeTideTable(ryePlayExtremDF)"
   ]
  },
  {
   "cell_type": "markdown",
   "metadata": {},
   "source": [
    "### Generation Routine in `WindGraph.py`"
   ]
  },
  {
   "cell_type": "code",
   "execution_count": 44,
   "metadata": {},
   "outputs": [],
   "source": [
    "EST = timezone('America/New_York')\n",
    "UTC = timezone('UTC')\n",
    "\n",
    "import matplotlib.transforms\n",
    "import matplotlib.dates as mdates\n",
    "\n",
    "# Getting Weather Data from execution rocks (station 44022)  Only needs to run every 15 minutes.\n",
    "def fetchWindData(source):\n",
    "  now = datetime.now(tz=EST)\n",
    "\n",
    "  windDF = pd.read_csv(source, header=[0,1], sep=\"\\\\s+\", nrows=450, na_values='MM') # Deprecated: delim_whitespace=True,\n",
    "  print(f\"\\t...got {len(windDF)} data values\")\n",
    "\n",
    "  windDF['DateTime'] = windDF[['#YY','MM','DD','hh','mm']].apply(lambda dt: datetime(dt[0], dt[1], dt[2], dt[3], dt[4], tzinfo=UTC).astimezone(EST), axis=1)\n",
    "  windDF['Time'] = windDF['DateTime'].apply(lambda t: t.time())\n",
    "  windDF['Date'] = windDF['DateTime'].apply(lambda d: d.date())\n",
    "  windDF['Wdir'] = windDF['WDIR'] + 360.0  # done so averaging over modulo 360.0 works properly\n",
    "\n",
    "  return windDF #.set_index(windDF['DateTime'] - windDF['DateTime'].min()) # returns a new copy\n",
    "#  return windDF.set_index('DateTime')\n",
    "\n",
    "def makeWindGraph(windDF, whereFrom=\"\"):\n",
    "  imageRef = \"resources/tmp/windGraph.png\" # fetch locally (way faster on a pi)\n",
    "  fig, ax = plt.subplots(figsize=(8, 4))\n",
    "\n",
    "  tme = windDF.index\n",
    "  wspd = windDF['WSPD'] # windDF['WSPD']\n",
    "  mxsp = windDF['GST'] # windDF['GST']\n",
    "\n",
    "  # convert m/s to mph: 0.447, m/s to knot: 0.5144\n",
    "  ax.plot(tme, wspd/0.5144, 'bo-', alpha=0.8)\n",
    "  ax.plot(tme, mxsp/0.5144, 'ro-', alpha=0.8)\n",
    "\n",
    "  # Plot direction arrows\n",
    "  # convert from compass to theta (use coordinate swap to do the rotation)\n",
    "  angl = np.radians(windDF['Wdir'])\n",
    "  yloc = 3.0 * np.ones_like(angl)\n",
    "  # why would we add 360??? because the average between 10 and 350 is 180\n",
    "  #       when the correct answer w.r.t. wind direction is 0.0 mod(360.0)\n",
    "  # An arrow every other step\n",
    "  ax.quiver(tme[::2], yloc[::2], np.sin(angl[::2]), np.cos(angl[::2]),\n",
    "            angles='uv', color='DodgerBlue', alpha=0.6, pivot='middle')\n",
    "\n",
    "  # Set the axis labels\n",
    "  # ax.set_xlabel(\"Date and Time\", fontsize=10, fontstyle='italic', color='SlateGray')  #obvious don't need it.\n",
    "  ax.set_ylabel(\"Wind Speed [knots]\", fontsize=12, fontstyle='italic', color='SlateGray')\n",
    "\n",
    "  #Fix the time axis\n",
    "  ax.xaxis.set_major_locator(mdates.DayLocator(tz=EST))\n",
    "  ax.xaxis.set_minor_locator(mdates.HourLocator(interval=4, tz=EST))\n",
    "\n",
    "  ax.xaxis.set_major_formatter(mdates.DateFormatter('%a, %b %d', tz=EST))\n",
    "  ax.xaxis.set_minor_formatter(mdates.DateFormatter('%H:%M', tz=EST))\n",
    "\n",
    "  dx = 0.; dy = -10/72.\n",
    "  offset = matplotlib.transforms.ScaledTranslation(dx, dy, fig.dpi_scale_trans)\n",
    "  # Create offset transform by 5 points in x direction\n",
    "  for label in ax.xaxis.get_majorticklabels():\n",
    "      label.set(horizontalalignment='center', color=\"darkred\", fontweight='bold')\n",
    "      label.set_transform(label.get_transform() + offset)\n",
    "\n",
    "  for label in ax.xaxis.get_minorticklabels():\n",
    "      label.set(horizontalalignment='center', color=\"darkred\")\n",
    "\n",
    "  ax.grid(True, which='major', linewidth=2, axis='both', alpha=0.7)\n",
    "  ax.grid(True, which='minor', linestyle=\"--\", axis='both', alpha = 0.5)\n",
    "  ax.set_ylim(bottom=0.0)\n",
    "\n",
    "  # where did this come from?\n",
    "  plt.text(0.99, 0.96, f\"{whereFrom}\",\n",
    "        horizontalalignment='right', verticalalignment='center',\n",
    "        transform=ax.transAxes, color='gray', alpha=0.6 )\n",
    "\n",
    "  # fig.show()\n",
    "  fig.savefig(imageRef, bbox_inches='tight', transparent=True)\n",
    "  plt.close(fig)\n",
    "\n",
    "# Exscution Rocks weather buoy\n",
    "real_EXR_TimeDataFile = \"https://www.ndbc.noaa.gov/data/realtime2/44022.txt\"  #DEAD\n",
    "# Kings Point\n",
    "real_KPH_TimeDataFile = \"https://www.ndbc.noaa.gov/data/realtime2/KPTN6.txt\"\n",
    "# Western Long Island Sound\n",
    "real_WLI_TimeDataFile = \"https://www.ndbc.noaa.gov/data/realtime2/44040.txt\"  #DEAD\n"
   ]
  },
  {
   "cell_type": "markdown",
   "metadata": {},
   "source": [
    "#### Run Above"
   ]
  },
  {
   "cell_type": "code",
   "execution_count": 46,
   "metadata": {},
   "outputs": [
    {
     "name": "stdout",
     "output_type": "stream",
     "text": [
      "\t...source: Execution Rocks\n",
      "\t... failed\n",
      "\t...source: Western LI\n",
      "\t... failed\n",
      "\t...source: Kings Point LI\n",
      "\t...got 450 data values\n"
     ]
    },
    {
     "name": "stderr",
     "output_type": "stream",
     "text": [
      "/tmp/ipykernel_27295/3295462361.py:14: FutureWarning: Series.__getitem__ treating keys as positions is deprecated. In a future version, integer keys will always be treated as labels (consistent with DataFrame behavior). To access a value by position, use `ser.iloc[pos]`\n",
      "  windDF['DateTime'] = windDF[['#YY','MM','DD','hh','mm']].apply(lambda dt: datetime(dt[0], dt[1], dt[2], dt[3], dt[4], tzinfo=UTC).astimezone(EST), axis=1)\n"
     ]
    }
   ],
   "source": [
    "now = datetime.now().astimezone(EST)\n",
    "d = timedelta(days = 2)\n",
    "\n",
    "# try to get execution rocks first, then WestLI, falling back to nearest manned land station\n",
    "try:\n",
    "    source = \"Execution Rocks\"\n",
    "    print(f\"\\t...source: {source}\")\n",
    "    theDF = fetchWindData(real_EXR_TimeDataFile)\n",
    "    smpl = theDF['DateTime'] > (now - d)\n",
    "    makeWindGraph( theDF[smpl].resample('1H', on='DateTime').mean(), source )\n",
    "except:\n",
    "    print(\"\\t... failed\")\n",
    "    # if that fails then try western LI buoy\n",
    "    try:\n",
    "        source = \"Western LI\"\n",
    "        print(f\"\\t...source: {source}\")\n",
    "        theDF = fetchWindData(real_WLI_TimeDataFile)\n",
    "        smpl = theDF['DateTime'] > (now - d)\n",
    "        makeWindGraph( theDF[smpl].resample('1H', on='DateTime').mean(), source )\n",
    "    except:\n",
    "        print(\"\\t... failed\")\n",
    "        # if that fails then settle on Kings Point (never fails)\n",
    "        source = \"Kings Point LI\"\n",
    "        print(f\"\\t...source: {source}\")\n",
    "        theDF = fetchWindData(real_KPH_TimeDataFile)\n",
    "        smpl = theDF['DateTime'] > (now - d)\n",
    "        #makeWindGraph( theDF[smpl].resample('1H', on='DateTime').mean(), source )\n"
   ]
  },
  {
   "cell_type": "markdown",
   "metadata": {},
   "source": [
    "### Generation Routine in `Forecast.py`"
   ]
  },
  {
   "cell_type": "markdown",
   "metadata": {},
   "source": [
    "A few notes about this kludge. NOAA is slowly rolling out an efficient REST system for local forecasts. They have yet to implement the marine forecasts. What we do have are web pages that are nicely laid out that can be harvested for the details we need. Each sector provides a set of forecasts for customized regions within.  We can pick the one we want and extract the daily predictions from there.  These short messages are all we want or need. Further I only need a few days out (about 6 panels.)"
   ]
  },
  {
   "cell_type": "code",
   "execution_count": null,
   "metadata": {},
   "outputs": [],
   "source": [
    "import numpy as np\n",
    "from html.parser import HTMLParser\n",
    "\n",
    "\n",
    "\"\"\"\n",
    "MarineHTMLParser\n",
    "    custom extension of HTMLParser to extract informaion from\n",
    "    NOAA/NWS Marine Forecasts\n",
    "\"\"\"\n",
    "class MarineHTMLParser(HTMLParser):\n",
    "  \"\"\"\n",
    "    custom class to parse the marine weather forecast for our area\n",
    "  \"\"\"\n",
    "  # an array of dictionaries\n",
    "  forecasts = []\n",
    "\n",
    "  def __init__(self):\n",
    "    \"\"\"\n",
    "      init the parser elements\n",
    "    \"\"\"\n",
    "    super(MarineHTMLParser, self).__init__()\n",
    "    self.inPreString = False\n",
    "    self.forecast = dict()\n",
    "\n",
    "  def handle_starttag(self, tag, attrs):\n",
    "    \"\"\"\n",
    "      handle any starting html tag, we are only looking for the <pre> tags\n",
    "      we initialize the forecast dictionary and the data counter index\n",
    "    \"\"\"\n",
    "    if tag.lower() == \"pre\":\n",
    "      self.inPreString = True\n",
    "      self.forecast = dict()\n",
    "      self.count = 0\n",
    "\n",
    "  def handle_endtag(self, tag):\n",
    "    \"\"\"\n",
    "      handle the closing </pre> tag and add the dict to the array\n",
    "    \"\"\"\n",
    "    if tag.lower() == \"pre\":\n",
    "      if self.inPreString:  # obviously\n",
    "        self.forecasts.append(self.forecast)\n",
    "        self.inPreString = False\n",
    "\n",
    "  def handle_data(self, data):\n",
    "    \"\"\"\n",
    "      this is the business end, there are a series of data elements\n",
    "      (I play the cards I'm dealt) the first is a REGION while the second\n",
    "      is a SYNOPSIS slug, the third is the OVERVIEW. Subsequent data\n",
    "      pieces are a sequence of TIME and ADVISORY sequences which seem to\n",
    "      number around 11.\n",
    "    \"\"\"\n",
    "    if self.inPreString:\n",
    "      if self.count == 0:\n",
    "        self.forecast['REGION'] = data.strip()\n",
    "      elif self.count > 0 and self.count % 2 == 1:\n",
    "        idx = f\"TIME{int((self.count+1)/2):02d}\"\n",
    "        self.forecast[idx] = data.strip()\n",
    "      else:\n",
    "        idx = f\"ADVISORY{int((self.count)/2):02d}\"\n",
    "        self.forecast[idx] = data.strip().replace('\\n',' ')\n",
    "      self.count += 1\n"
   ]
  },
  {
   "cell_type": "markdown",
   "metadata": {},
   "source": [
    "#### Run Above"
   ]
  },
  {
   "cell_type": "code",
   "execution_count": null,
   "metadata": {},
   "outputs": [],
   "source": [
    "\"\"\"\n",
    "We want to run this command peridoically to update the clock. I run it within python\n",
    "we run the risk of memory leaks so I will run it as a periodic bash shell (we only\n",
    "have to run once every 2hrs or so)\n",
    "\"\"\"\n",
    "forecastFile = \"forecastGrid.html\"\n",
    "templateFile = \"_\" + forecastFile\n",
    "\n",
    "# url of marine forecast in our area\n",
    "url = \"https://www.ndbc.noaa.gov/data/Forecasts/FZUS51.KOKX.html\"\n",
    "\n",
    "# creating HTTP response object from given url\n",
    "parser = MarineHTMLParser()\n",
    "\n",
    "import urllib.request\n",
    "with urllib.request.urlopen(url) as resp:\n",
    "    parser.feed(resp.read().decode(\"utf-8\"))\n",
    "\n",
    "\"\"\"\n",
    "The first record is special, it contains general information about the region\n",
    "\"\"\"\n",
    "# print(parser.forecasts[0]['REGION']) # Off. designation for covered area\n",
    "# print('-')\n",
    "# print(parser.forecasts[0]['TIME01']) # Short version of location\n",
    "# print('-')\n",
    "# print(parser.forecasts[0]['ADVISORY01']) # Reason for following forecasts\n",
    "# print('-----------')\n",
    "# print()\n",
    "\n",
    "\"\"\"\n",
    "The subsequent records follow the pattern of REGION and a sequence of\n",
    "Times and Advisories\n",
    "\"\"\"\n",
    "#    for j in range(len(parser.forecasts)):\n",
    "\n",
    "designation = (parser.forecasts[6]['REGION']).replace('\\n',' ').split('- ')\n",
    "try:\n",
    "    specialWarning = designation[2].split(\"...\")[1]\n",
    "    designation[2] = designation[2].split(\"...\")[0]\n",
    "except:\n",
    "    specialWarning = \"\"\n",
    "\n",
    "        # Off. designation for covered area\n",
    "titleArea = f'''\n",
    "    <p class=\"where\">{designation[1]}</p>\n",
    "    <p class=\"when\">{designation[2]}</p>\n",
    "    '''\n",
    "forecastBox = []\n",
    "for i in range(np.min([6, len(parser.forecasts)-1]) ):\n",
    "    # print(parser.forecasts[6][f\"TIME{i+1:02d}\"]) # Short version of location\n",
    "    # print('==')\n",
    "    tmeidx = f\"TIME{i+1:02d}\"\n",
    "    advidx = f\"ADVISORY{i+1:02d}\"\n",
    "    forecastBox.append(f'''\n",
    "            <p class=\"what\">{parser.forecasts[6][tmeidx]}</h3>\n",
    "            <p  class=\"how\">{parser.forecasts[6][advidx]}</p>\n",
    "        ''')\n",
    "\n",
    "#open and read the template file\n",
    "with open(templateFile, \"r\") as templateFile:\n",
    "    templateData = templateFile.readlines()\n",
    "\n",
    "# Title Information\n",
    "templateData = (\"\".join(templateData)).replace('<!--Forecast Title-->', titleArea)\n",
    "# Forecast Boxes\n",
    "for i in range(len(forecastBox)):\n",
    "    templateData = templateData.replace(f'<!--Forecast Box_{i}-->', forecastBox[i])\n",
    "\n",
    "templateData = templateData.replace('<!--Special Warning-->', specialWarning)\n",
    "\n",
    "\n",
    "# copy the html table into the text and write out a new file\n",
    "with open(forecastFile, \"w\") as htmlFile:\n",
    "    htmlFile.write( templateData )"
   ]
  },
  {
   "attachments": {},
   "cell_type": "markdown",
   "metadata": {},
   "source": [
    "### Make a Lune `moonPhase.py`"
   ]
  },
  {
   "attachments": {},
   "cell_type": "markdown",
   "metadata": {},
   "source": [
    "A simple but elegant way to create the shadow across the moon's face. We get the fracillium from the usno server and use that to \n",
    "create the 'lune'. Here we experiment with backgrounds and such."
   ]
  },
  {
   "cell_type": "code",
   "execution_count": null,
   "metadata": {},
   "outputs": [],
   "source": [
    "pathToResources = 'resources/'\n",
    "##\n",
    "# make a cartoon of a moon with beta % lit\n",
    "# param beta is %lit.  -1<0 (waning) to 0 (new moon) to 0<1 (waxing)\n",
    "##\n",
    "def makeMoonLune(beta):\n",
    "  print(f\"\\tgenerating lune: {beta}\")\n",
    "\n",
    "  t = np.linspace(0.0, 1.0, 100)\n",
    "\n",
    "  def circFunc(t, r=1):\n",
    "    return (r * np.sin(np.pi * t), r * np.cos(np.pi * t))\n",
    "\n",
    "  def ellipFunc(t, b=0.0, r=1.0):\n",
    "    if b>0:\n",
    "      dir = -1.0\n",
    "    else:\n",
    "      dir = 1.0\n",
    "    return (dir * 2 * (np.abs(b)-1/2) * r * np.sin(np.pi * t), r * np.cos(np.pi * t)) # was b <- np.cos(np.pi * b)\n",
    "\n",
    "  plt.figure(figsize=(1, 1))\n",
    "  plt.axes().set_aspect('equal')\n",
    "\n",
    "  imageRef = pathToResources + 'FullMoon.png' # fetch locally (way faster on a pi)\n",
    "  imageOverlay = plt.imread(imageRef)\n",
    "  (hgt,wdt,cols) = imageOverlay.shape\n",
    "\n",
    "  # plt.xlim(left=-1.0, right=1.0)\n",
    "  # plt.ylim(bottom=-1.0, top=1.0)\n",
    "\n",
    "  (xc, yc) = circFunc(t)\n",
    "  plt.plot(xc, yc, '0.0')   # right half\n",
    "  plt.plot(-xc, yc, '0.0')  # left half\n",
    "\n",
    "  (xe, ye) = ellipFunc(t, beta)\n",
    "  # plt.plot(xe, ye, '0.2', color=\"blue\", alpha=0.5)\n",
    "  if beta<=0:\n",
    "    plt.fill_betweenx(yc, -xc, xe, facecolor='0.9', alpha=0.4)\n",
    "    plt.fill_betweenx(yc, xe, xc, facecolor='0.1', alpha=0.4)\n",
    "  else:\n",
    "    plt.fill_betweenx(yc, -xc, xe, facecolor='0.1', alpha=0.4)\n",
    "    plt.fill_betweenx(yc, xe, xc, facecolor='0.9', alpha=0.4)\n",
    "\n",
    "  implot = plt.imshow(imageOverlay, aspect='equal', alpha=0.9, extent=(-1., 1., -1., 1.))\n",
    "\n",
    "  plt.axis('off')\n",
    "\n",
    "\n",
    "\n",
    "  plt.show()\n",
    "  #plt.savefig(\"tmpMoon.svg\", transparent=True)\n"
   ]
  },
  {
   "attachments": {},
   "cell_type": "markdown",
   "metadata": {},
   "source": [
    "#### Run Above"
   ]
  },
  {
   "cell_type": "code",
   "execution_count": 68,
   "metadata": {},
   "outputs": [
    {
     "name": "stdout",
     "output_type": "stream",
     "text": [
      "\tgenerating lune: -0.2\n"
     ]
    },
    {
     "data": {
      "image/png": "[encoded data removed]",
      "text/plain": [
       "<Figure size 72x72 with 1 Axes>"
      ]
     },
     "metadata": {
      "needs_background": "light"
     },
     "output_type": "display_data"
    }
   ],
   "source": [
    "makeMoonLune(-0.2)"
   ]
  },
  {
   "cell_type": "code",
   "execution_count": 12,
   "metadata": {},
   "outputs": [
    {
     "data": {
      "text/plain": [
       "<function matplotlib.pyplot.show(close=None, block=None)>"
      ]
     },
     "execution_count": 12,
     "metadata": {},
     "output_type": "execute_result"
    },
    {
     "data": {
      "image/png": "[encoded data removed]",
      "text/plain": [
       "<Figure size 432x288 with 1 Axes>"
      ]
     },
     "metadata": {
      "needs_background": "light"
     },
     "output_type": "display_data"
    }
   ],
   "source": [
    "pathToResources = \".\\\\resources\\\\\"\n",
    "imageRef = pathToResources + 'FullMoon.png' # fetch locally (way faster on a pi)\n",
    "imageOverlay = plt.imread(imageRef)\n",
    "(hgt,wdt,cols) = imageOverlay.shape\n",
    "#plt.figure(figsize=(3, 3))\n",
    "\n",
    "implot = plt.imshow(imageOverlay)\n",
    "plt.show()"
   ]
  },
  {
   "cell_type": "markdown",
   "metadata": {},
   "source": [
    "---\n",
    "# Tide Experimental Section\n",
    "Below here are the experiments that led to the above routines."
   ]
  },
  {
   "cell_type": "markdown",
   "metadata": {
    "id": "oj7ZxULV7GIO"
   },
   "source": [
    "## REST Method for Tide Data\n",
    "\n",
    "Tide data can be fetched via a REST call outlined below.  This is the testing area for the development of the fetchTideData method listed above."
   ]
  },
  {
   "cell_type": "code",
   "execution_count": null,
   "metadata": {
    "colab": {
     "base_uri": "https://localhost:8080/",
     "height": 418
    },
    "executionInfo": {
     "elapsed": 1107,
     "status": "ok",
     "timestamp": 1641147662898,
     "user": {
      "displayName": "Paul Beeken",
      "photoUrl": "https://lh3.googleusercontent.com/a-/AOh14Gi1Ton6VWWxq_RY5nDQCJKS3LBl8ht5Vswpk1AMbMI=s64",
      "userId": "04993528495221570139"
     },
     "user_tz": 300
    },
    "id": "UWPkEu5PrNB6",
    "outputId": "80afb18a-637d-48f5-f322-df056ded27c3"
   },
   "outputs": [
    {
     "data": {
      "image/png": "[encoded data removed]",
      "text/plain": [
       "<Figure size 720x432 with 1 Axes>"
      ]
     },
     "metadata": {
      "needs_background": "light"
     },
     "output_type": "display_data"
    }
   ],
   "source": [
    "#@ title REST Parameters\n",
    "startD = date(2021, 12, 26)  # GMT time so that\n",
    "endD = date(2022, 1, 1)\n",
    "\n",
    "startDate = startD.strftime(\"%Y%m%d\")\n",
    "endDate = endD.strftime(\"%Y%m%d\")\n",
    "stations = {'NewRochelleNY':  \"8518490\",\n",
    "            'RyePlaylandNY':  \"8518091\",\n",
    "            'CosCobCT':       \"8469549\",\n",
    "            'ThrogsNeckBrNY': \"8518526\",\n",
    "            'KingsPointNY':   \"8516945\",\n",
    "            'BatteryNY':      \"8518750\",\n",
    "            'BridgeportCT':   \"8467150\",\n",
    "            'NewHavenCT':     \"8465705\",\n",
    "            \"NewboldPA\":      \"8548989\",\n",
    "            'TurkeyPointNY':  \"8518962\",\n",
    "            }\n",
    "\n",
    "station = stations['RyePlaylandNY']\n",
    "units = \"english\" # \"metric\"\n",
    "# interval = \"hilo\"  # hi and lo tides\n",
    "# interval = \"h\"     # hourly\n",
    "interval = \"15\"      # 30,15,6,1 min\n",
    "datum = \"MLLW\" # \"STND\" \"MHHW\" \"MHW\" \"MTL\" \"MLW\" \"MLLW\" \"NAVD\"\n",
    "timezone = \"LST_LDT\" # \"LST\" or \"GMT\"\n",
    "clock = \"24hour\" # \"12hour\"\n",
    "\n",
    "noaaSite = f\"https://tidesandcurrents.noaa.gov/api/datagetter?product=predictions&application=NOS.COOPS.TAC.WL&begin_date={startDate}&end_date={endDate}&datum={datum}&station={station}&time_zone={timezone}&clock={clock}&units={units}&interval={interval}&format=csv\"\n",
    "\n",
    "tideDF = pd.read_csv(noaaSite)\n",
    "try:\n",
    "  # convert string dates to proper date times\n",
    "  tideDF['DateTime'] = tideDF['Date Time'].apply(lambda x:datetime.strptime(x, \"%Y-%m-%d %H:%M\"))\n",
    "  minTime = tideDF['DateTime'].min()\n",
    "  tideDF['hours'] = tideDF['DateTime'].apply(lambda x:(x-minTime).total_seconds()/3600)\n",
    "  tideDF.plot('DateTime', ' Prediction', figsize=(10, 6), rot=20, grid=True)\n",
    "except:\n",
    "  print(tideDF)\n"
   ]
  },
  {
   "cell_type": "code",
   "execution_count": 25,
   "metadata": {},
   "outputs": [],
   "source": [
    "#@title Make graphical simulation of NOAA chart\n",
    "def makeTideGraph(detailDF, extremaDF):\n",
    "    \"\"\"\n",
    "    Make tide ala NOAA from two sets of pandas DataFrames:\n",
    "    detailDF -- Detailed predicted water levels for complete graph\n",
    "    extremeDF -- The extrema (highs and lows)\n",
    "    \"\"\"\n",
    "    global gTideUnit # unit switch flag\n",
    "\n",
    "    graphFile = \"resources/tmp/TideGraph.png\"\n",
    "\n",
    "    import matplotlib.transforms\n",
    "    import matplotlib.dates as mdates\n",
    "\n",
    "    today = datetime.now(tz=EST).date()\n",
    "\n",
    "    # Set up the plot and plot the data\n",
    "    # px = 1/plt.rcParams['figure.dpi']  # pixel in inches (doesn't work if bbox is 'tight')\n",
    "    fig, ax = plt.subplots(figsize=(12, 4))\n",
    "\n",
    "    ax.plot(detailDF['DateTime'], detailDF[gTideUnit], color=\"blue\", alpha=0.8)\n",
    "\n",
    "    # Markers at extrema with square marks\n",
    "    ax.scatter(extremaDF['DateTime'], extremaDF[gTideUnit], color=\"blue\", marker=\"s\")\n",
    "    for index, row in extremaDF.iterrows():\n",
    "        xy = (row['DateTime'], row[gTideUnit])\n",
    "        u = gTideUnit.split(\"[\")[1].split(\"]\")[0]   # row['Units']\n",
    "        ax.annotate(f'{xy[1]:5.2f} {u[:2]}', xy=xy, xytext=(8,0), textcoords='offset points', color='blue')\n",
    "\n",
    "    # Set the axis labels\n",
    "    # ax.set_xlabel(\"Date and Time\", fontsize=14, fontstyle='italic', color='SlateGray')\n",
    "    ax.set_ylabel(f\"Tide Level in {u}\", fontsize=14, fontstyle='italic', color='SlateGray')\n",
    "    # ~put an alternate axis in meters~ Alternate between meters and feet in 5min intervals\n",
    "\n",
    "    # Put a vetical bar that marks right now.\n",
    "    now = datetime.now(tz=EST)\n",
    "    (ymin, ymax) = ax.get_ylim()\n",
    "    ax.annotate(f\"Current Time   {now.time().strftime('%I:%M %p')}\", xy=(now, (ymin+ymax)/2), xytext=(-15,-30), textcoords='offset points', color='green', rotation=90.0, alpha=0.6 )\n",
    "    ax.vlines(now, ymin=ymin, ymax=ymax, transform=ax.get_xaxis_transform(), colors=\"green\", linewidth=4, alpha=0.7)\n",
    "\n",
    "    #Fix the time axis\n",
    "    ax.xaxis.set_major_locator(mdates.DayLocator(tz=EST))\n",
    "    ax.xaxis.set_minor_locator(mdates.HourLocator(interval=4, tz=EST))\n",
    "\n",
    "    ax.xaxis.set_major_formatter(mdates.DateFormatter('%b %d', tz=EST))\n",
    "    ax.xaxis.set_minor_formatter(mdates.DateFormatter('%H:%M', tz=EST))\n",
    "\n",
    "    dx = 0.; dy = -10/72.\n",
    "    offset = matplotlib.transforms.ScaledTranslation(dx, dy, fig.dpi_scale_trans)\n",
    "    # Create offset transform by 5 points in x direction\n",
    "    for label in ax.xaxis.get_majorticklabels():\n",
    "        label.set(horizontalalignment='center', color=\"darkred\", fontweight='bold')\n",
    "        label.set_transform(label.get_transform() + offset)\n",
    "\n",
    "    for label in ax.xaxis.get_minorticklabels():\n",
    "        label.set(horizontalalignment='center', color=\"darkred\")\n",
    "\n",
    "    ax.grid(True, which='major', linewidth=2, axis='both', alpha=0.7)\n",
    "    ax.grid(True, which='minor', linestyle=\"--\", axis='both', alpha = 0.5)\n",
    "\n",
    "    fig.show()\n",
    "    #fig.savefig(graphFile, bbox_inches='tight', transparent=True)\n",
    "    plt.close(fig)\n"
   ]
  },
  {
   "cell_type": "markdown",
   "metadata": {},
   "source": [
    "### Run the Graph"
   ]
  },
  {
   "cell_type": "markdown",
   "metadata": {
    "id": "cguQKaUaPsw4"
   },
   "source": [
    "### Cross correlations"
   ]
  },
  {
   "cell_type": "code",
   "execution_count": null,
   "metadata": {
    "colab": {
     "base_uri": "https://localhost:8080/",
     "height": 265
    },
    "executionInfo": {
     "elapsed": 1638,
     "status": "ok",
     "timestamp": 1641147684688,
     "user": {
      "displayName": "Paul Beeken",
      "photoUrl": "https://lh3.googleusercontent.com/a-/AOh14Gi1Ton6VWWxq_RY5nDQCJKS3LBl8ht5Vswpk1AMbMI=s64",
      "userId": "04993528495221570139"
     },
     "user_tz": 300
    },
    "id": "JQf0BfHpNY0Q",
    "outputId": "679c7bcc-afb6-4ef2-e0d0-384b3cde088a"
   },
   "outputs": [],
   "source": [
    "startD = date(2021, 12, 25)\n",
    "endD = date(2021, 12, 30)\n",
    "\n",
    "ryeDF = fetchTideData(stations['RyePlaylandNY'], startD, endD)\n",
    "otherDF = fetchTideData(stations['TurkeyPointNY'], startD, endD)\n",
    "\n",
    "plt.plot(ryeDF['Hours'],ryeDF['Prediction'], color=\"blue\", alpha=0.8)\n",
    "plt.plot(otherDF['Hours'], otherDF['Prediction'], color=\"red\", alpha=0.8)\n",
    "plt.show()"
   ]
  },
  {
   "cell_type": "markdown",
   "metadata": {
    "id": "p_XxOQCOjA0c"
   },
   "source": [
    "You would expect to see some phase shift of tides as you move to the east or west.  (Or up an estuary)"
   ]
  },
  {
   "cell_type": "markdown",
   "metadata": {
    "id": "wGVAbjecda3F"
   },
   "source": [
    "### Harmonic Constants for a given station"
   ]
  },
  {
   "cell_type": "markdown",
   "metadata": {
    "id": "fRBJ0jhwwV-q"
   },
   "source": [
    "With a station number we can get the parameters that predict the tide for a given location given the following parameters from NOAA.\n",
    "\n",
    " - Constituent #\n",
    " > Order in which the National Ocean Service lists the constituents\n",
    " - Name\n",
    " > Common name used to refer to a particular constituent, subscript refers to the number of cycles per day\n",
    " - Amplitude $A_i$\n",
    "One-half the range of a tidal constituent. (*In other words the standard definition of amplitude*)\n",
    " - Phase $\\Phi_i$ (*the phase of this component relative to the others*)\n",
    " > The phase lag of the observed tidal constituent relative to the theoretical equilibrium tide. = $\\frac{180}{\\pi}\\phi$\n",
    " - Speed $\\Omega_i$ (*the angular speed, a.k.a. angular frequency associated with this component*)\n",
    " > The rate change in the phase of a constituent, expressed in degrees per hour. The speed is equal to 360 degrees divided by the constituent period expressed in hours. = $\\frac{180}{\\pi}\\;3600\\;\\omega$ where $\\omega$ is in $rad/s$\n",
    " - Description\n",
    " > The full name of the tidal constituent\n",
    "\n",
    "Amplitudes are in feet. Phases are in degrees, referenced to Local. Z0 (MSL): 0 feet.\n",
    "\n",
    "The basic model would be cast as...\n",
    "$$\\sum_{i=1}^{32} A_i \\cos(\\phi_i + \\omega_i t)$$\n",
    "\n",
    "or\n",
    "\n",
    "```python\n",
    "phi   = np.pi/180. * Phase\n",
    "omega = np.pi/180 * Speed / 3600.\n",
    "amp   = Amplitude\n",
    "```\n",
    "\n",
    "The piece that is missing here is exactly from when do we measure the highest tide to start the calculation. From reading various reports and documents I gather that this time shift factor is reset every few years to make sure the calculation matches up with the measurements (NOAA is always checking against actual readings.)\n",
    "\n"
   ]
  },
  {
   "cell_type": "code",
   "execution_count": null,
   "metadata": {
    "executionInfo": {
     "elapsed": 2256,
     "status": "ok",
     "timestamp": 1641348499799,
     "user": {
      "displayName": "Paul Beeken",
      "photoUrl": "https://lh3.googleusercontent.com/a-/AOh14Gi1Ton6VWWxq_RY5nDQCJKS3LBl8ht5Vswpk1AMbMI=s64",
      "userId": "04993528495221570139"
     },
     "user_tz": 300
    },
    "id": "T58_I8AzsJtU"
   },
   "outputs": [],
   "source": [
    "#@title Harmonic Constants for Rye Playland Beach\n",
    "site = \"https://tidesandcurrents.noaa.gov/harcon.html?id=\" + stations['RyePlaylandNY']\n",
    "\n",
    "constDF = pd.read_html(site, header=0)[0]\n",
    "constDF['phi'] = constDF['Phase'] * np.pi / 180.0\n",
    "constDF['omega'] = constDF['Speed'] * np.pi / 180.0 / 3600.0\n",
    "\n",
    "coefs = constDF[['Amplitude','phi','omega']].to_numpy()"
   ]
  },
  {
   "cell_type": "code",
   "execution_count": null,
   "metadata": {
    "colab": {
     "base_uri": "https://localhost:8080/",
     "height": 265
    },
    "executionInfo": {
     "elapsed": 318,
     "status": "ok",
     "timestamp": 1641348503512,
     "user": {
      "displayName": "Paul Beeken",
      "photoUrl": "https://lh3.googleusercontent.com/a-/AOh14Gi1Ton6VWWxq_RY5nDQCJKS3LBl8ht5Vswpk1AMbMI=s64",
      "userId": "04993528495221570139"
     },
     "user_tz": 300
    },
    "id": "7h2sJXKpvzoK",
    "outputId": "54ec3a29-68ca-4591-8831-b502462f3c3f"
   },
   "outputs": [],
   "source": [
    "#@markdown `tide` calculates the amplitude based on the parameters\n",
    "def tide(terms, time):\n",
    "  tideLevel = 0.0\n",
    "  for [amp,phi,omega] in terms:\n",
    "    tideLevel += amp * np.cos(omega * time + phi)\n",
    "    # for point of reference this takes about 50 lines of Fortran Code\n",
    "  return tideLevel\n",
    "\n",
    "# initialize the arrays\n",
    "hours = np.array([])\n",
    "hgt = np.array([])\n",
    "\n",
    "# this ought to be 'vectorizable' but I can't seem to get it to work.\n",
    "for h in range(3*24): # a week\n",
    "  hours = np.append(hours, h)\n",
    "  hgt = np.append(hgt, tide(coefs, h*3600))\n",
    "\n",
    "plt.plot(hours,hgt)\n",
    "\n",
    "plt.show()"
   ]
  },
  {
   "cell_type": "markdown",
   "metadata": {
    "id": "ZReTmHq-fVzk"
   },
   "source": [
    "Superimpose the harmonic estimation with the data passed from a REST call to the NOAA site."
   ]
  },
  {
   "cell_type": "code",
   "execution_count": null,
   "metadata": {
    "colab": {
     "base_uri": "https://localhost:8080/",
     "height": 374
    },
    "executionInfo": {
     "elapsed": 1035,
     "status": "ok",
     "timestamp": 1641147738166,
     "user": {
      "displayName": "Paul Beeken",
      "photoUrl": "https://lh3.googleusercontent.com/a-/AOh14Gi1Ton6VWWxq_RY5nDQCJKS3LBl8ht5Vswpk1AMbMI=s64",
      "userId": "04993528495221570139"
     },
     "user_tz": 300
    },
    "id": "wzSKSzS27vvT",
    "outputId": "54b8ee7f-0224-4801-fa49-dbef4eb04abe"
   },
   "outputs": [],
   "source": [
    "startD = datetime(2021, 12, 20, 2, 0, tzinfo=EDT)\n",
    "endD = datetime(2021, 12, 30, 2, 0, tzinfo=EDT)\n",
    "\n",
    "tideDF = fetchTideData(stations['RyePlaylandNY'], startD, endD)\n",
    "\n",
    "d1 = tideDF['DateTime'].min() #datetime(2021, 12, 28, 0, 0, 0, tzinfo=EDT)\n",
    "d2 = tideDF['DateTime'].max() #datetime(2021, 12, 30, 8, 0, 0, tzinfo=EDT)\n",
    "\n",
    "hgt = np.array([])\n",
    "\n",
    "intrv = np.linspace(d1.toordinal()*24, 24+d2.toordinal()*24, num=300, endpoint=True)\n",
    "shift = 12.2  # time phase shift\n",
    "for i in intrv:\n",
    "  hgt = np.append(hgt, tide(coefs, (i-shift)*3600))\n",
    "\n",
    "\n",
    "plt.figure(figsize=(20,6))\n",
    "# Plot the harmonic values\n",
    "plt.plot((intrv-intrv.min()), hgt+3.5)\n",
    "plt.xticks([i for i in range(0,260,12)])\n",
    "\n",
    "\n",
    "restHours = tideDF['Hours'].to_numpy()\n",
    "restAmp = tideDF['Prediction'].to_numpy()\n",
    "\n",
    "plt.scatter(restHours, restAmp, alpha=0.6)\n",
    "plt.grid(True)\n",
    "plt.show()\n"
   ]
  },
  {
   "cell_type": "markdown",
   "metadata": {
    "id": "EwoYbWy3kSW8"
   },
   "source": [
    "## Tide Clock Design Notes"
   ]
  },
  {
   "cell_type": "markdown",
   "metadata": {
    "id": "NR84kz6ykWpG"
   },
   "source": [
    "So how to make an easily seen display of the tide situation. I have in my hardware kits:\n",
    "  - Nested NeoPixel Wheels, a stack of 1+8+12+16+24+32 or 61 pixels in total\n",
    "  - individual neopixels galore\n",
    "  - Mechanical indicators are not out of the question.\n",
    "  - How about a discarded 720p display in a case run by a Raspberry Pi?\n",
    "\n"
   ]
  },
  {
   "cell_type": "markdown",
   "metadata": {
    "id": "_sIj27hUbETi"
   },
   "source": [
    "### Round 1"
   ]
  },
  {
   "cell_type": "markdown",
   "metadata": {
    "id": "sIkzk8S7bHG3"
   },
   "source": [
    "Use an old Dell Screen which was to be decommisioned.\n",
    "  - Program a **Raspberry Pi B v1.1** to drive the screen\n",
    "      - Design and layout the graphics\n",
    "      - Power the ℿ from the 12V audio connection (*Buck converter*)\n",
    "  - Build a 'weather resistant' case from wood and plexi.\n",
    "  - Design a mount for placing where the clock was.\n",
    "\n",
    "Need to consider things to put on the screen (plenty-o real estate)\n",
    "  - The graph of the next 48 hours (format the way NOAA does it)\n",
    "  - The time of the next tide extrema (high or low)\n",
    "  - Moon phase?\n",
    "  - subtle clues as to when the last access of NOAA data was.\n",
    "  - Grab data from NOAA in a responsible way (once every 24 hours?)\n",
    "  - Today's Date (of course)\n",
    "  - Weather data?\n",
    "\n",
    "References:\n",
    " - [Rye Playland, Harmonic Calculations](https://tidesandcurrents.noaa.gov/noaatidepredictions.html?id=8518091)  Harmonic estimates checked against measurements.\n",
    " - [Larchmont Harbor, NY](https://marine.weather.gov/MapClick.php?lat=40.9251&lon=-73.7391#.YdDNYWjMIkk)  Gives the marine version of the weather.\n"
   ]
  },
  {
   "cell_type": "markdown",
   "metadata": {
    "id": "O2wiyPoSUUib"
   },
   "source": [
    "We need to understand how dates work in python.\n",
    "\n",
    "After some side explorations I now understand date, time and datetime and the proper way to shift time values.  Short caption: always try to work with 'aware' time values.\n",
    "\n",
    "For example: date.today() returns the date at UTC, which means if I want the date for here (UTC-4,5) the date will be wrong.  Solution: start with 'aware' datetimes"
   ]
  },
  {
   "cell_type": "markdown",
   "metadata": {},
   "source": [
    "These are global values used with subsequent cells"
   ]
  },
  {
   "cell_type": "code",
   "execution_count": null,
   "metadata": {
    "executionInfo": {
     "elapsed": 254,
     "status": "ok",
     "timestamp": 1641348519068,
     "user": {
      "displayName": "Paul Beeken",
      "photoUrl": "https://lh3.googleusercontent.com/a-/AOh14Gi1Ton6VWWxq_RY5nDQCJKS3LBl8ht5Vswpk1AMbMI=s64",
      "userId": "04993528495221570139"
     },
     "user_tz": 300
    },
    "id": "ZTV2NkQr4fKC"
   },
   "outputs": [],
   "source": [
    "# With each call we flip the units so we toggle back and\n",
    "#      forth between metric and imperial (we have an international audience)\n",
    "idx = 0\n",
    "measure = (\"english\", \"metric\")\n",
    "stations = {'NewRochelleNY':  \"8518490\",\n",
    "            'RyePlaylandNY':  \"8518091\",\n",
    "            'CosCobCT':       \"8469549\",\n",
    "            'ThrogsNeckBrNY': \"8518526\",\n",
    "            'KingsPointNY':   \"8516945\",\n",
    "            'BatteryNY':      \"8518750\",\n",
    "            'BridgeportCT':   \"8467150\",\n",
    "            'NewHavenCT':     \"8465705\",\n",
    "            \"NewboldPA\":      \"8548989\",\n",
    "            'TurkeyPointNY':  \"8518962\",\n",
    "            }\n",
    "\n",
    "tideStation = stations['RyePlaylandNY']"
   ]
  },
  {
   "cell_type": "markdown",
   "metadata": {},
   "source": [
    "We don't want to be hammering on the NOAA servers every 5 minutes so lets download the tide data once per day and save it.  This cell developes the way to do this."
   ]
  },
  {
   "cell_type": "code",
   "execution_count": 4,
   "metadata": {},
   "outputs": [],
   "source": [
    "#@title fetchDailyTides\n",
    "def fetchDailyTides(fromTideStation):\n",
    "    \"\"\"\n",
    "    \"\"\"\n",
    "    detailTidesFile = 'DetailTides.zip'  # 15 minute intervals (for smooth graph)\n",
    "    extremTidesFile = 'ExtremTides.zip'  # Just the hi and low values for extrema\n",
    "\n",
    "    # Fetch this data once per day.  And run all the subsequent graphics from this.\n",
    "    now       = datetime.now(tz=EDT)\n",
    "    today     = now.date()\n",
    "\n",
    "    # Proper way to set up timeshifts.\n",
    "    yesterday = now - timedelta(days=0)\n",
    "    tomorrow  = now + timedelta(days=2)\n",
    "    # print(f\"today: {today} yesterday:{yesterday} tom:{tomorrow}\")\n",
    "\n",
    "    # look for existing data, if not found: create, if found: load and test for age\n",
    "    try:\n",
    "        # print(\"Try to read saved data...\")\n",
    "        tideDetailDF = pd.read_pickle(detailTidesFile, compression='infer')\n",
    "        tideExtremDF = pd.read_pickle(extremTidesFile, compression='infer')\n",
    "    except FileNotFoundError:\n",
    "        # print(\"File doesn't exist, creating...\")\n",
    "        # Get the data\n",
    "        tideDetailDF = fetchTideData(fromTideStation, yesterday.date(), tomorrow.date())\n",
    "        tideDetailDF.to_pickle(detailTidesFile, compression='infer')\n",
    "        tideExtremDF = fetchTideData(fromTideStation, yesterday.date(), tomorrow.date(), interval='hilo')\n",
    "        tideExtremDF.to_pickle(extremTidesFile, compression='infer')\n",
    "\n",
    "    # test detail data frame for age...\n",
    "    if tideDetailDF['DateTime'][1].date()!=today:\n",
    "        tideDetailDF = fetchTideData(fromTideStation, yesterday.date(), tomorrow.date())\n",
    "        tideDetailDF.to_pickle(detailTidesFile, compression='infer')\n",
    "\n",
    "    # test extrema data frame for age...\n",
    "    if tideExtremDF['DateTime'][1].date()!=today:\n",
    "        tideExtremDF = fetchTideData(fromTideStation, yesterday.date(), tomorrow.date(), interval='hilo')\n",
    "        tideExtremDF.to_pickle(extremTidesFile, compression='infer')\n",
    "\n",
    "    # print(f\"15min file: {tideDetailDF['DateTime'][1].date()} curr:{today}\")\n",
    "    # print(f\"Extrm file: {tideExtremDF['DateTime'][0].date()} curr:{today}\")\n",
    "    return (tideDetailDF, tideExtremDF)\n"
   ]
  },
  {
   "cell_type": "code",
   "execution_count": 5,
   "metadata": {},
   "outputs": [
    {
     "name": "stdout",
     "output_type": "stream",
     "text": [
      "Try to read saved data...\n"
     ]
    },
    {
     "data": {
      "text/html": [
       "<div>\n",
       "<style scoped>\n",
       "    .dataframe tbody tr th:only-of-type {\n",
       "        vertical-align: middle;\n",
       "    }\n",
       "\n",
       "    .dataframe tbody tr th {\n",
       "        vertical-align: top;\n",
       "    }\n",
       "\n",
       "    .dataframe thead th {\n",
       "        text-align: right;\n",
       "    }\n",
       "</style>\n",
       "<table border=\"1\" class=\"dataframe\">\n",
       "  <thead>\n",
       "    <tr style=\"text-align: right;\">\n",
       "      <th></th>\n",
       "      <th>Date Time</th>\n",
       "      <th>Tide [ft]</th>\n",
       "      <th>Type</th>\n",
       "      <th>DateTime</th>\n",
       "      <th>Hours</th>\n",
       "      <th>Date</th>\n",
       "      <th>Time</th>\n",
       "      <th>Tide [m]</th>\n",
       "      <th>Units</th>\n",
       "    </tr>\n",
       "  </thead>\n",
       "  <tbody>\n",
       "    <tr>\n",
       "      <th>0</th>\n",
       "      <td>2022-01-05 00:43</td>\n",
       "      <td>7.443</td>\n",
       "      <td>H</td>\n",
       "      <td>2022-01-05 00:39:00-05:00</td>\n",
       "      <td>0.000000</td>\n",
       "      <td>2022-01-05</td>\n",
       "      <td>00:43</td>\n",
       "      <td>2.268626</td>\n",
       "      <td>ft Feet</td>\n",
       "    </tr>\n",
       "    <tr>\n",
       "      <th>1</th>\n",
       "      <td>2022-01-05 07:01</td>\n",
       "      <td>-0.470</td>\n",
       "      <td>L</td>\n",
       "      <td>2022-01-05 06:57:00-05:00</td>\n",
       "      <td>6.300000</td>\n",
       "      <td>2022-01-05</td>\n",
       "      <td>07:01</td>\n",
       "      <td>-0.143256</td>\n",
       "      <td>ft Feet</td>\n",
       "    </tr>\n",
       "    <tr>\n",
       "      <th>2</th>\n",
       "      <td>2022-01-05 12:59</td>\n",
       "      <td>8.035</td>\n",
       "      <td>H</td>\n",
       "      <td>2022-01-05 12:55:00-05:00</td>\n",
       "      <td>12.266667</td>\n",
       "      <td>2022-01-05</td>\n",
       "      <td>12:59</td>\n",
       "      <td>2.449068</td>\n",
       "      <td>ft Feet</td>\n",
       "    </tr>\n",
       "    <tr>\n",
       "      <th>3</th>\n",
       "      <td>2022-01-05 19:43</td>\n",
       "      <td>-0.857</td>\n",
       "      <td>L</td>\n",
       "      <td>2022-01-05 19:39:00-05:00</td>\n",
       "      <td>19.000000</td>\n",
       "      <td>2022-01-05</td>\n",
       "      <td>19:43</td>\n",
       "      <td>-0.261214</td>\n",
       "      <td>ft Feet</td>\n",
       "    </tr>\n",
       "    <tr>\n",
       "      <th>4</th>\n",
       "      <td>2022-01-06 01:37</td>\n",
       "      <td>7.298</td>\n",
       "      <td>H</td>\n",
       "      <td>2022-01-06 01:33:00-05:00</td>\n",
       "      <td>24.900000</td>\n",
       "      <td>2022-01-06</td>\n",
       "      <td>01:37</td>\n",
       "      <td>2.224430</td>\n",
       "      <td>ft Feet</td>\n",
       "    </tr>\n",
       "  </tbody>\n",
       "</table>\n",
       "</div>"
      ],
      "text/plain": [
       "          Date Time  Tide [ft] Type                  DateTime      Hours  \\\n",
       "0  2022-01-05 00:43      7.443    H 2022-01-05 00:39:00-05:00   0.000000   \n",
       "1  2022-01-05 07:01     -0.470    L 2022-01-05 06:57:00-05:00   6.300000   \n",
       "2  2022-01-05 12:59      8.035    H 2022-01-05 12:55:00-05:00  12.266667   \n",
       "3  2022-01-05 19:43     -0.857    L 2022-01-05 19:39:00-05:00  19.000000   \n",
       "4  2022-01-06 01:37      7.298    H 2022-01-06 01:33:00-05:00  24.900000   \n",
       "\n",
       "         Date   Time  Tide [m]    Units  \n",
       "0  2022-01-05  00:43  2.268626  ft Feet  \n",
       "1  2022-01-05  07:01 -0.143256  ft Feet  \n",
       "2  2022-01-05  12:59  2.449068  ft Feet  \n",
       "3  2022-01-05  19:43 -0.261214  ft Feet  \n",
       "4  2022-01-06  01:37  2.224430  ft Feet  "
      ]
     },
     "execution_count": 5,
     "metadata": {},
     "output_type": "execute_result"
    }
   ],
   "source": [
    "(ryeDF, ryeDFExt) = fetchDailyTides(tideStation)\n",
    "ryeDFExt.head()"
   ]
  },
  {
   "cell_type": "markdown",
   "metadata": {},
   "source": [
    "Pull the data from the store and generate a plot that resembles the NOAA tide graph.  I chose this because I like the way it presents the tide data."
   ]
  },
  {
   "cell_type": "markdown",
   "metadata": {},
   "source": [
    "### Other Ideas"
   ]
  },
  {
   "cell_type": "markdown",
   "metadata": {},
   "source": [
    "#### Weather"
   ]
  },
  {
   "cell_type": "markdown",
   "metadata": {
    "id": "uFQc4x2D3s7e"
   },
   "source": [
    "Developed the principal graphics and tables, now pull in weather information from [marine NOAA site](https://marine.weather.gov/MapClick.php?lat=40.9251&lon=-73.7391#.YdIjbWjMIkm)\n",
    "\n"
   ]
  },
  {
   "cell_type": "code",
   "execution_count": null,
   "metadata": {
    "id": "rUCPBKYouCEY"
   },
   "outputs": [],
   "source": [
    "weatherSite = \"https://marine.weather.gov/MapClick.php?lat=40.9251&lon=-73.7391#.YdIjbWjMIkm\"\n",
    "weatherDF = pd.read_html(weatherSite)"
   ]
  },
  {
   "cell_type": "markdown",
   "metadata": {},
   "source": [
    "[Weather API](https://www.weather.gov/documentation/services-web-api)\n",
    "May be able to provide some direct help.\n",
    "\n",
    "Use this to get the map grid to get the location\n",
    "    https://api.weather.gov/points/{latitude},{longitude}\n",
    "\n",
    "```\n",
    "    \"properties\": {\n",
    "        \"@id\": \"https://api.weather.gov/points/40.9251,-73.7390999\",\n",
    "        \"@type\": \"wx:Point\",\n",
    "        \"cwa\": \"OKX\",\n",
    "        \"forecastOffice\": \"https://api.weather.gov/offices/OKX\",\n",
    "        \"gridId\": \"OKX\",\n",
    "        \"gridX\": 40,\n",
    "        \"gridY\": 45,\n",
    "        \"forecast\": \"https://api.weather.gov/gridpoints/OKX/40,45/forecast\",\n",
    "        \"forecastHourly\": \"https://api.weather.gov/gridpoints/OKX/40,45/forecast/hourly\",\n",
    "        \"forecastGridData\": \"https://api.weather.gov/gridpoints/OKX/40,45\",\n",
    "        \"observationStations\": \"https://api.weather.gov/gridpoints/OKX/40,45/stations\",\n",
    "        \"relativeLocation\": {\n",
    "            \"type\": \"Feature\",\n",
    "            \"geometry\": {\n",
    "                \"type\": \"Point\",\n",
    "                \"coordinates\": [\n",
    "                    -73.751959999999997,\n",
    "                    40.925961000000001\n",
    "                ]\n",
    "            },\n",
    "            \"properties\": {\n",
    "                \"city\": \"Larchmont\",\n",
    "                \"state\": \"NY\",\n",
    "                \"distance\": {\n",
    "                    \"unitCode\": \"wmoUnit:m\",\n",
    "                    \"value\": 1084.6714461509\n",
    "                },\n",
    "                \"bearing\": {\n",
    "                    \"unitCode\": \"wmoUnit:degree_(angle)\",\n",
    "                    \"value\": 95\n",
    "                }\n",
    "            }\n",
    "        },\n",
    "```"
   ]
  },
  {
   "cell_type": "code",
   "execution_count": null,
   "metadata": {},
   "outputs": [
    {
     "name": "stdout",
     "output_type": "stream",
     "text": [
      "{\n",
      "    \"correlationId\": \"374a5d1e\",\n",
      "    \"title\": \"Unexpected Problem\",\n",
      "    \"type\": \"https://api.weather.gov/problems/UnexpectedProblem\",\n",
      "    \"status\": 500,\n",
      "    \"detail\": \"An unexpected problem has occurred.\",\n",
      "    \"instance\": \"https://api.weather.gov/requests/374a5d1e\"\n",
      "}\n"
     ]
    },
    {
     "name": "stderr",
     "output_type": "stream",
     "text": [
      "  % Total    % Received % Xferd  Average Speed   Time    Time     Time  Current\n",
      "                                 Dload  Upload   Total   Spent    Left  Speed\n",
      "\n",
      "  0     0    0     0    0     0      0      0 --:--:-- --:--:-- --:--:--     0\n",
      "100   269  100   269    0     0    269      0  0:00:01 --:--:--  0:00:01   747\n"
     ]
    }
   ],
   "source": [
    "# !curl \"https://api.weather.gov/points/40.9251,-73.7391\"\n",
    "!curl \"https://api.weather.gov/gridpoints/OKX/40,45/forecast\""
   ]
  },
  {
   "cell_type": "markdown",
   "metadata": {},
   "source": [
    "#### Moon Phase"
   ]
  },
  {
   "cell_type": "markdown",
   "metadata": {},
   "source": [
    "Moon phase with slight background\n",
    "The URL is a complicated but accurate description of phase e.g.  moon_day_[] where brackets are replaced with...\n",
    " - WaxC_## | WaxG_##  (*C*rescent, *G*ibbous)\n",
    "    - where ## in % in increments\n",
    " - first, last, full, new\n",
    "\n",
    "![waxing 35%](https://www.moongiant.com/images/today_phase/moon_day_WaxG_95.jpg)"
   ]
  },
  {
   "cell_type": "markdown",
   "metadata": {
    "id": "S1oT6H_7C3mu"
   },
   "source": [
    "Large moon phase based on % provided in URL\n",
    "![Moon phase based on %#](https://nineplanets.org/static/lib/astro/images/shadow-80.png)"
   ]
  },
  {
   "cell_type": "markdown",
   "metadata": {},
   "source": [
    "#### Direct observation of tides"
   ]
  },
  {
   "cell_type": "code",
   "execution_count": null,
   "metadata": {
    "colab": {
     "base_uri": "https://localhost:8080/",
     "height": 865
    },
    "executionInfo": {
     "elapsed": 131,
     "status": "ok",
     "timestamp": 1641218531131,
     "user": {
      "displayName": "Paul Beeken",
      "photoUrl": "https://lh3.googleusercontent.com/a-/AOh14Gi1Ton6VWWxq_RY5nDQCJKS3LBl8ht5Vswpk1AMbMI=s64",
      "userId": "04993528495221570139"
     },
     "user_tz": 300
    },
    "id": "iRnm7WDK5g2V",
    "outputId": "9182c474-339c-4a4d-e365-b8230d101e4a"
   },
   "outputs": [],
   "source": [
    "%%html\n",
    "#<iframe src=\"https://www.wpc.ncep.noaa.gov/basicwx/bwxloop_ndfd.html\" width=\"1100px\" height=\"820px\"></iframe>"
   ]
  },
  {
   "cell_type": "markdown",
   "metadata": {
    "id": "hQ2xrATLST8m"
   },
   "source": [
    "[Mamaroneck Web Cam](https://www.weatherbug.com/weather-camera/?cam=MMBPC) for checking the tides?"
   ]
  },
  {
   "cell_type": "markdown",
   "metadata": {},
   "source": [
    "---\n",
    "# Implementation Experimentation\n",
    "Below here are experiments in persistance between executions and interacting with the OS"
   ]
  },
  {
   "attachments": {},
   "cell_type": "markdown",
   "metadata": {},
   "source": [
    "This is an experimental area for exploring how to implement permanence across executions.\n",
    "Environmental variables are things that are read but not saved in the shell environment. So we need a better way to save the state of our envgine.  python has a native library called [configparser](https://docs.python.org/3/library/configparser.html) which handles much of the overhead internally."
   ]
  },
  {
   "cell_type": "code",
   "execution_count": null,
   "metadata": {},
   "outputs": [],
   "source": [
    "import configparser\n",
    "buildconfig = configparser.ConfigParser()\n",
    "\n",
    "# quick setup and definition\n",
    "buildconfig['DEFAULT'] = {'TideUnits': 'Tide [ft]',\n",
    "                     'Yesterday': 0,\n",
    "                     'Tomorrow': 2,\n",
    "                     # Rye Playland, NY (Harmonic Station)\n",
    "                     'Station': 8518091\n",
    "                     }\n",
    "\n",
    "# funny, we can read\n",
    "with open('.env', 'w') as envFile:\n",
    "    buildconfig.write(envFile)\n"
   ]
  },
  {
   "cell_type": "code",
   "execution_count": null,
   "metadata": {},
   "outputs": [],
   "source": [
    "#\n",
    "config = configparser.ConfigParser()\n",
    "config.read('.env')\n",
    "defaults = config['DEFAULT']\n",
    "\n",
    "print([f\"{k}: {v}\" for (k,v) in defaults.items()])\n",
    "\n",
    "tideUnits = defaults.get('tideunits','Tide [ft]')\n",
    "yesterdayDelta = defaults.getint('yesterday', fallback=-1)\n",
    "tomorrowDelta = defaults.getint('tomorrow', fallback=3)\n",
    "station = defaults.get('station')\n",
    "print(f\"'{tideUnits}' '{station}' {yesterdayDelta}-{tomorrowDelta}\")\n"
   ]
  },
  {
   "cell_type": "code",
   "execution_count": null,
   "metadata": {},
   "outputs": [],
   "source": [
    "defaults['tideunits']  = 'Tide [cubit]'\n",
    "\n",
    "# only way to save, as mentioned above, it can read with a string to the file but\n",
    "# requires this additional overhead to save.\n",
    "with open('.env', 'w') as envFile:\n",
    "    config.write(envFile)"
   ]
  },
  {
   "cell_type": "code",
   "execution_count": null,
   "metadata": {},
   "outputs": [],
   "source": [
    "gv = 1\n",
    "\n",
    "def incr2():\n",
    "    global gv, ev, ov\n",
    "    gv += 2\n",
    "\n",
    "def incr1():\n",
    "    # doesn't work\n",
    "    gv = 22\n",
    "\n",
    "def oper():\n",
    "    print(gv)\n",
    "    incr1()\n",
    "    print(gv)\n",
    "    incr2()\n",
    "    print(gv)\n",
    "\n",
    "oper()"
   ]
  },
  {
   "cell_type": "code",
   "execution_count": null,
   "metadata": {},
   "outputs": [],
   "source": [
    "#import config\n",
    "\n",
    "config.a = 1\n",
    "config.b = 'two'"
   ]
  },
  {
   "cell_type": "code",
   "execution_count": null,
   "metadata": {},
   "outputs": [],
   "source": [
    "graphFile = 'graphic.png'\n",
    "import matplotlib.pyplot as plt\n",
    "from datetime import datetime, date, time\n",
    "from pytz import timezone  # should already be part of pandas but it doesn't hurt to do it again.\n",
    "EST = timezone('America/New_York')\n",
    "\n",
    "# Getting Weather Data\n",
    "import html5lib\n",
    "import pandas as pd\n",
    "\n",
    "now = datetime.now(tz=EST)\n",
    "\n",
    "windDF = pd.read_html(\"https://www.ndbc.noaa.gov/station_page.php?station=44022\", match='Previous observations', header=1)[0]\n",
    "windDF['Time'] = windDF['TIME(EST)'].apply(lambda t: datetime.strptime(t, \"%I:%M %p\").replace(tzinfo=EST).time())\n",
    "windDF['Date'] = windDF[['MM','DD']].apply(lambda md: date(year=now.year, month=md[0], day=md[1]), axis=1)   #print(f\"{md[0]}-{md[1]}\")\n",
    "windDF['DateTime'] = windDF[['Date','Time']].apply(lambda dt: datetime.combine(dt[0], dt[1], tzinfo=EST), axis=1)\n",
    "\n",
    "\n",
    "\n",
    "windDF.plot('DateTime', 'WSPDkts')\n",
    "plt.grid(True)\n",
    "plt.ylabel(\"Wind Speed [knts]\")\n"
   ]
  },
  {
   "cell_type": "code",
   "execution_count": null,
   "metadata": {},
   "outputs": [],
   "source": [
    "import matplotlib.transforms\n",
    "import matplotlib.dates as mdates\n",
    "\n",
    "fig, ax = plt.subplots(figsize=(6, 3))\n",
    "\n",
    "ax.plot(windDF['DateTime'], windDF['WSPDkts'], 'bo', alpha=0.8)\n",
    "\n",
    "# Set the axis labels\n",
    "ax.set_xlabel(\"Date and Time\", fontsize=10, fontstyle='italic', color='SlateGray')\n",
    "ax.set_ylabel(\"Wind Speed [knts]\", fontsize=10, fontstyle='italic', color='SlateGray')\n",
    "\n",
    "#Fix the time axis\n",
    "ax.xaxis.set_major_locator(mdates.DayLocator(tz=EST))\n",
    "ax.xaxis.set_minor_locator(mdates.HourLocator(interval=4, tz=EST))\n",
    "\n",
    "ax.xaxis.set_major_formatter(mdates.DateFormatter('%b %d', tz=EST))\n",
    "ax.xaxis.set_minor_formatter(mdates.DateFormatter('%H:%M', tz=EST))\n",
    "\n",
    "dx = 0.; dy = -10/72.\n",
    "offset = matplotlib.transforms.ScaledTranslation(dx, dy, fig.dpi_scale_trans)\n",
    "# Create offset transform by 5 points in x direction\n",
    "for label in ax.xaxis.get_majorticklabels():\n",
    "    label.set(horizontalalignment='center', color=\"darkred\", fontweight='bold')\n",
    "    label.set_transform(label.get_transform() + offset)\n",
    "\n",
    "for label in ax.xaxis.get_minorticklabels():\n",
    "    label.set(horizontalalignment='center', color=\"darkred\")\n",
    "\n",
    "ax.grid(True, which='major', linewidth=2, axis='both', alpha=0.7)\n",
    "ax.grid(True, which='minor', linestyle=\"--\", axis='both', alpha = 0.5)\n",
    "ax.set_ylim(bottom=0.0)\n",
    "\n",
    "#fig.show()\n",
    "fig.savefig(graphFile, bbox_inches='tight')\n",
    "plt.close(fig)"
   ]
  },
  {
   "cell_type": "markdown",
   "metadata": {},
   "source": [
    "---\n",
    "# Wind Data\n",
    "There are actual data stations within a few klicks of our YC so why not use some of our real estate to display the information?  One thing to worry about is that 2 of the data stations are buoys: accurate when you can get the data but unreliable at times."
   ]
  },
  {
   "cell_type": "code",
   "execution_count": 26,
   "metadata": {},
   "outputs": [],
   "source": [
    "#@title test of gathering wind data.\n",
    "import pandas as pd\n",
    "import numpy as np\n",
    "\n",
    "import matplotlib.pyplot as plt\n",
    "from datetime import datetime, date, time, timedelta\n",
    "from pytz import timezone  # should already be part of pandas but it doesn't hurt to do it again.\n",
    "\n",
    "EST = timezone('America/New_York')\n",
    "UTC = timezone('UTC')\n",
    "\n",
    "import matplotlib.transforms\n",
    "import matplotlib.dates as mdates\n",
    "\n",
    "# Getting Weather Data from execution rocks (station 44022)  Only needs to run every 15 minutes."
   ]
  },
  {
   "cell_type": "code",
   "execution_count": 34,
   "metadata": {},
   "outputs": [],
   "source": [
    "# Exscution Rocks weather buoy\n",
    "realEXR_TimeDataFile = \"https://www.ndbc.noaa.gov/data/realtime2/44022.txt\"  # May not be available\n",
    "# Kings Point\n",
    "realKPS_TimeDataFile = \"https://www.ndbc.noaa.gov/data/realtime2/KPTN6.txt\"  # Maintained by the US Merchant Marine Academy\n",
    "# Western Long Island Sound\n",
    "realWLI_TimeDataFile = \"https://www.ndbc.noaa.gov/data/realtime2/44040.txt\" # May not be available"
   ]
  },
  {
   "cell_type": "markdown",
   "metadata": {},
   "source": [
    "### Fetch Wind Data"
   ]
  },
  {
   "cell_type": "code",
   "execution_count": 82,
   "metadata": {},
   "outputs": [],
   "source": [
    "def fetchWindData(dataSetSite):\n",
    "  now = datetime.now(tz=EST)\n",
    "  def filtMM(x):\n",
    "    x[x != 'MM'].apply(float)\n",
    "#    x[x == 'MM'] = 5000.\n",
    "\n",
    "  windDF = pd.read_csv(dataSetSite, sep=\"\\\\s+\", header=[0,1], nrows=450, na_values='MM' ) # Deprecated: , delim_whitespace=True\n",
    "  print(f\"\\t...got {len(windDF)} data values\")\n",
    "  #print(windDF.columns)\n",
    "\n",
    "  windDF['DateTime'] = windDF[['#YY','MM','DD','hh','mm']].apply(lambda dt: datetime(dt[0], dt[1], dt[2], dt[3], dt[4], tzinfo=UTC).astimezone(EST), axis=1)\n",
    "  #windDF['DateTime'] = windDF[['#YY','MM','DD','hh','mm']].apply(lambda dt: datetime(dt['#YY'], dt['MM'], dt['DD'], dt['hh'], dt['mm'], tzinfo=UTC).astimezone(EST), axis=1)\n",
    "  windDF['Time'] = windDF['DateTime'].apply(lambda t: t.time())\n",
    "  windDF['Date'] = windDF['DateTime'].apply(lambda d: d.date())\n",
    "  # windDF['WDIR'] = windDF['WDIR'].apply(filtMM)\n",
    "  # windDF['GST'] = windDF['GST'].apply(filtMM)\n",
    "  # windDF.index = windDF['DateTime']\n",
    "\n",
    "  return windDF #.set_index(windDF['DateTime'] - windDF['DateTime'].min()) # returns a new copy\n",
    "#  return windDF.set_index('DateTime')\n"
   ]
  },
  {
   "cell_type": "code",
   "execution_count": 83,
   "metadata": {},
   "outputs": [
    {
     "name": "stdout",
     "output_type": "stream",
     "text": [
      "\t...got 450 data values\n"
     ]
    },
    {
     "name": "stderr",
     "output_type": "stream",
     "text": [
      "/tmp/ipykernel_27295/1867080078.py:11: FutureWarning: Series.__getitem__ treating keys as positions is deprecated. In a future version, integer keys will always be treated as labels (consistent with DataFrame behavior). To access a value by position, use `ser.iloc[pos]`\n",
      "  windDF['DateTime'] = windDF[['#YY','MM','DD','hh','mm']].apply(lambda dt: datetime(dt[0], dt[1], dt[2], dt[3], dt[4], tzinfo=UTC).astimezone(EST), axis=1)\n"
     ]
    },
    {
     "data": {
      "text/html": [
       "<div>\n",
       "<style scoped>\n",
       "    .dataframe tbody tr th:only-of-type {\n",
       "        vertical-align: middle;\n",
       "    }\n",
       "\n",
       "    .dataframe tbody tr th {\n",
       "        vertical-align: top;\n",
       "    }\n",
       "\n",
       "    .dataframe thead tr th {\n",
       "        text-align: left;\n",
       "    }\n",
       "</style>\n",
       "<table border=\"1\" class=\"dataframe\">\n",
       "  <thead>\n",
       "    <tr>\n",
       "      <th></th>\n",
       "      <th>#YY</th>\n",
       "      <th>MM</th>\n",
       "      <th>DD</th>\n",
       "      <th>hh</th>\n",
       "      <th>mm</th>\n",
       "      <th>WDIR</th>\n",
       "      <th>WSPD</th>\n",
       "      <th>GST</th>\n",
       "      <th>WVHT</th>\n",
       "      <th>DPD</th>\n",
       "      <th>...</th>\n",
       "      <th>PRES</th>\n",
       "      <th>ATMP</th>\n",
       "      <th>WTMP</th>\n",
       "      <th>DEWP</th>\n",
       "      <th>VIS</th>\n",
       "      <th>PTDY</th>\n",
       "      <th>TIDE</th>\n",
       "      <th>DateTime</th>\n",
       "      <th>Time</th>\n",
       "      <th>Date</th>\n",
       "    </tr>\n",
       "    <tr>\n",
       "      <th></th>\n",
       "      <th>#yr</th>\n",
       "      <th>mo</th>\n",
       "      <th>dy</th>\n",
       "      <th>hr</th>\n",
       "      <th>mn</th>\n",
       "      <th>degT</th>\n",
       "      <th>m/s</th>\n",
       "      <th>m/s</th>\n",
       "      <th>m</th>\n",
       "      <th>sec</th>\n",
       "      <th>...</th>\n",
       "      <th>hPa</th>\n",
       "      <th>degC</th>\n",
       "      <th>degC</th>\n",
       "      <th>degC</th>\n",
       "      <th>nmi</th>\n",
       "      <th>hPa</th>\n",
       "      <th>ft</th>\n",
       "      <th></th>\n",
       "      <th></th>\n",
       "      <th></th>\n",
       "    </tr>\n",
       "  </thead>\n",
       "  <tbody>\n",
       "    <tr>\n",
       "      <th>0</th>\n",
       "      <td>2025</td>\n",
       "      <td>2</td>\n",
       "      <td>10</td>\n",
       "      <td>20</td>\n",
       "      <td>30</td>\n",
       "      <td>330.0</td>\n",
       "      <td>6.2</td>\n",
       "      <td>7.7</td>\n",
       "      <td>NaN</td>\n",
       "      <td>NaN</td>\n",
       "      <td>...</td>\n",
       "      <td>1027.3</td>\n",
       "      <td>1.9</td>\n",
       "      <td>1.9</td>\n",
       "      <td>NaN</td>\n",
       "      <td>NaN</td>\n",
       "      <td>NaN</td>\n",
       "      <td>NaN</td>\n",
       "      <td>2025-02-10 15:30:00-05:00</td>\n",
       "      <td>15:30:00</td>\n",
       "      <td>2025-02-10</td>\n",
       "    </tr>\n",
       "    <tr>\n",
       "      <th>1</th>\n",
       "      <td>2025</td>\n",
       "      <td>2</td>\n",
       "      <td>10</td>\n",
       "      <td>20</td>\n",
       "      <td>24</td>\n",
       "      <td>320.0</td>\n",
       "      <td>5.7</td>\n",
       "      <td>6.7</td>\n",
       "      <td>NaN</td>\n",
       "      <td>NaN</td>\n",
       "      <td>...</td>\n",
       "      <td>1027.3</td>\n",
       "      <td>1.9</td>\n",
       "      <td>1.9</td>\n",
       "      <td>NaN</td>\n",
       "      <td>NaN</td>\n",
       "      <td>NaN</td>\n",
       "      <td>NaN</td>\n",
       "      <td>2025-02-10 15:24:00-05:00</td>\n",
       "      <td>15:24:00</td>\n",
       "      <td>2025-02-10</td>\n",
       "    </tr>\n",
       "    <tr>\n",
       "      <th>2</th>\n",
       "      <td>2025</td>\n",
       "      <td>2</td>\n",
       "      <td>10</td>\n",
       "      <td>20</td>\n",
       "      <td>18</td>\n",
       "      <td>NaN</td>\n",
       "      <td>NaN</td>\n",
       "      <td>NaN</td>\n",
       "      <td>NaN</td>\n",
       "      <td>NaN</td>\n",
       "      <td>...</td>\n",
       "      <td>NaN</td>\n",
       "      <td>1.8</td>\n",
       "      <td>1.9</td>\n",
       "      <td>NaN</td>\n",
       "      <td>NaN</td>\n",
       "      <td>NaN</td>\n",
       "      <td>NaN</td>\n",
       "      <td>2025-02-10 15:18:00-05:00</td>\n",
       "      <td>15:18:00</td>\n",
       "      <td>2025-02-10</td>\n",
       "    </tr>\n",
       "    <tr>\n",
       "      <th>3</th>\n",
       "      <td>2025</td>\n",
       "      <td>2</td>\n",
       "      <td>10</td>\n",
       "      <td>20</td>\n",
       "      <td>12</td>\n",
       "      <td>NaN</td>\n",
       "      <td>NaN</td>\n",
       "      <td>NaN</td>\n",
       "      <td>NaN</td>\n",
       "      <td>NaN</td>\n",
       "      <td>...</td>\n",
       "      <td>NaN</td>\n",
       "      <td>1.8</td>\n",
       "      <td>1.8</td>\n",
       "      <td>NaN</td>\n",
       "      <td>NaN</td>\n",
       "      <td>NaN</td>\n",
       "      <td>NaN</td>\n",
       "      <td>2025-02-10 15:12:00-05:00</td>\n",
       "      <td>15:12:00</td>\n",
       "      <td>2025-02-10</td>\n",
       "    </tr>\n",
       "    <tr>\n",
       "      <th>4</th>\n",
       "      <td>2025</td>\n",
       "      <td>2</td>\n",
       "      <td>10</td>\n",
       "      <td>20</td>\n",
       "      <td>6</td>\n",
       "      <td>NaN</td>\n",
       "      <td>NaN</td>\n",
       "      <td>NaN</td>\n",
       "      <td>NaN</td>\n",
       "      <td>NaN</td>\n",
       "      <td>...</td>\n",
       "      <td>NaN</td>\n",
       "      <td>1.8</td>\n",
       "      <td>1.8</td>\n",
       "      <td>NaN</td>\n",
       "      <td>NaN</td>\n",
       "      <td>NaN</td>\n",
       "      <td>NaN</td>\n",
       "      <td>2025-02-10 15:06:00-05:00</td>\n",
       "      <td>15:06:00</td>\n",
       "      <td>2025-02-10</td>\n",
       "    </tr>\n",
       "  </tbody>\n",
       "</table>\n",
       "<p>5 rows × 22 columns</p>\n",
       "</div>"
      ],
      "text/plain": [
       "    #YY MM  DD  hh  mm   WDIR WSPD  GST WVHT DPD  ...    PRES ATMP WTMP DEWP  \\\n",
       "    #yr mo  dy  hr  mn   degT  m/s  m/s    m sec  ...     hPa degC degC degC   \n",
       "0  2025  2  10  20  30  330.0  6.2  7.7  NaN NaN  ...  1027.3  1.9  1.9  NaN   \n",
       "1  2025  2  10  20  24  320.0  5.7  6.7  NaN NaN  ...  1027.3  1.9  1.9  NaN   \n",
       "2  2025  2  10  20  18    NaN  NaN  NaN  NaN NaN  ...     NaN  1.8  1.9  NaN   \n",
       "3  2025  2  10  20  12    NaN  NaN  NaN  NaN NaN  ...     NaN  1.8  1.8  NaN   \n",
       "4  2025  2  10  20   6    NaN  NaN  NaN  NaN NaN  ...     NaN  1.8  1.8  NaN   \n",
       "\n",
       "  VIS PTDY TIDE                  DateTime      Time        Date  \n",
       "  nmi  hPa   ft                                                  \n",
       "0 NaN  NaN  NaN 2025-02-10 15:30:00-05:00  15:30:00  2025-02-10  \n",
       "1 NaN  NaN  NaN 2025-02-10 15:24:00-05:00  15:24:00  2025-02-10  \n",
       "2 NaN  NaN  NaN 2025-02-10 15:18:00-05:00  15:18:00  2025-02-10  \n",
       "3 NaN  NaN  NaN 2025-02-10 15:12:00-05:00  15:12:00  2025-02-10  \n",
       "4 NaN  NaN  NaN 2025-02-10 15:06:00-05:00  15:06:00  2025-02-10  \n",
       "\n",
       "[5 rows x 22 columns]"
      ]
     },
     "execution_count": 83,
     "metadata": {},
     "output_type": "execute_result"
    }
   ],
   "source": [
    "df = fetchWindData(realKPS_TimeDataFile)\n",
    "df.head()"
   ]
  },
  {
   "cell_type": "code",
   "execution_count": null,
   "metadata": {},
   "outputs": [],
   "source": [
    "# df['GST']=df['GST'].replace({'MM':0})\n",
    "# df['PRES']=df['PRES'].replace({'MM':800})\n",
    "sel = df['GST']!='MM'\n",
    "dfm = df[sel['m/s']]\n",
    "ndfm = dfm.apply(lambda x: print(x), axis=1, raw=True)\n",
    "# dfm.applymap(lambda x: float(x))\n",
    "# n = len(dfm['GST'])\n",
    "\n",
    "# for i in ndfm['GST']['m/s'].keys():\n",
    "#     if type(ndfm['GST']['m/s'][i]) is str:\n",
    "#         print(f\"{i}: '{ndfm['GST']['m/s'][i]}'\")\n",
    "#     else:\n",
    "#         print(f\"{i}: {10.0*ndfm['GST']['m/s'][i]}\")\n"
   ]
  },
  {
   "cell_type": "code",
   "execution_count": null,
   "metadata": {},
   "outputs": [],
   "source": [
    "now = datetime.now().astimezone(EST)\n",
    "d = timedelta(days = 2)\n",
    "sel = (df['DateTime'] > (now - d)).to_numpy()\n",
    "ndf = df.resample('2h', on='DateTime').mean()\n",
    "ndf.head()\n"
   ]
  },
  {
   "cell_type": "code",
   "execution_count": 76,
   "metadata": {},
   "outputs": [
    {
     "data": {
      "text/plain": [
       "(450, 22)"
      ]
     },
     "execution_count": 76,
     "metadata": {},
     "output_type": "execute_result"
    }
   ],
   "source": [
    "ndf.shape"
   ]
  },
  {
   "cell_type": "markdown",
   "metadata": {},
   "source": [
    "### Graph the wind data"
   ]
  },
  {
   "cell_type": "code",
   "execution_count": 94,
   "metadata": {},
   "outputs": [],
   "source": [
    "def makeWindGraph(windDF):\n",
    "  graphFile = \"resources/WindGraph.png\"\n",
    "  fig, ax = plt.subplots(figsize=(8, 4))\n",
    "\n",
    "  tme = windDF.index\n",
    "  wspd = windDF['WSPD'] # windDF['WSPD']\n",
    "  mxsp = windDF['GST'] # windDF['GST']\n",
    "\n",
    "  ax.plot(tme, wspd/0.447, 'bo-', alpha=0.8)\n",
    "  ax.plot(tme, mxsp/0.447, 'ro-', alpha=0.8)\n",
    "\n",
    "  ax.set_ylim(bottom=4.0)\n",
    "\n",
    "  yloc = 3 * wspd  / wspd\n",
    "  angl = windDF['WDIR']\n",
    "  ax.quiver(tme, yloc, np.cos(np.pi*angl/np.pi), np.sin(np.pi*angl/np.pi), angles='uv', color='orange', alpha=0.6, pivot='middle')\n",
    "\n",
    "  # Set the axis labels\n",
    "  # ax.set_xlabel(\"Date and Time\", fontsize=10, fontstyle='italic', color='SlateGray')\n",
    "  ax.set_ylabel(\"Wind Speed [mph]\", fontsize=12, fontstyle='italic', color='SlateGray')\n",
    "\n",
    "  #Fix the time axis\n",
    "  ax.xaxis.set_major_locator(mdates.DayLocator(tz=EST))\n",
    "  ax.xaxis.set_minor_locator(mdates.HourLocator(interval=4, tz=EST))\n",
    "\n",
    "  ax.xaxis.set_major_formatter(mdates.DateFormatter('%b %d', tz=EST))\n",
    "  ax.xaxis.set_minor_formatter(mdates.DateFormatter('%H:%M', tz=EST))\n",
    "\n",
    "  dx = 0.; dy = -10/72.\n",
    "  offset = matplotlib.transforms.ScaledTranslation(dx, dy, fig.dpi_scale_trans)\n",
    "  # Create offset transform by 5 points in x direction\n",
    "  for label in ax.xaxis.get_majorticklabels():\n",
    "      label.set(horizontalalignment='center', color=\"darkred\", fontweight='bold')\n",
    "      label.set_transform(label.get_transform() + offset)\n",
    "\n",
    "  for label in ax.xaxis.get_minorticklabels():\n",
    "      label.set(horizontalalignment='center', color=\"darkred\")\n",
    "\n",
    "  ax.grid(True, which='major', linewidth=2, axis='both', alpha=0.7)\n",
    "  ax.grid(True, which='minor', linestyle=\"--\", axis='both', alpha = 0.5)\n",
    "  ax.set_ylim(bottom=0.0)\n",
    "\n",
    "#  fig.show()\n",
    "  fig.savefig(graphFile, bbox_inches='tight', transparent=True)\n",
    "  plt.close(fig)\n"
   ]
  },
  {
   "cell_type": "markdown",
   "metadata": {},
   "source": [
    "### Main"
   ]
  },
  {
   "cell_type": "code",
   "execution_count": null,
   "metadata": {},
   "outputs": [],
   "source": [
    "print(\"Build wind graph...\")\n",
    "\n",
    "now = datetime.now().astimezone(EST)\n",
    "d = timedelta(days = 2)\n",
    "\n",
    "theDF = fetchWindData(realKPS_TimeDataFile)\n",
    "\n",
    "smpl = theDF['DateTime'] > (now - d)\n",
    "makeWindGraph( theDF[smpl].resample('2h', on='DateTime').mean() )\n",
    "# print(theDF.rank)\n"
   ]
  },
  {
   "cell_type": "markdown",
   "metadata": {},
   "source": [
    "## US Naval Observatory \n",
    "gives us sunrise and sunset data, They had a nice REST call \n",
    "and I had a working routine for 3 months when it went silent."
   ]
  },
  {
   "cell_type": "code",
   "execution_count": null,
   "metadata": {},
   "outputs": [
    {
     "name": "stdout",
     "output_type": "stream",
     "text": [
      "https://aa.usno.navy.mil/api/rstt/oneday?id=HHYC_019E3&date=02/05/2022&coords=40.93,-73.76&tz=-5&dst=false\n",
      "Content-Type: application/json\n",
      "\n",
      "{\"apiversion\": \"3.0.0\", \"geometry\": {\"coordinates\": [-73.76, 40.93], \"type\": \"Point\"}, \"properties\": {\"data\": {\"closestphase\": {\"day\": 8, \"month\": 2, \"phase\": \"First Quarter\", \"time\": \"08:50\", \"year\": 2022}, \"curphase\": \"Waxing Crescent\", \"day\": 5, \"day_of_week\": \"Saturday\", \"fracillum\": \"23%\", \"isdst\": false, \"label\": null, \"month\": 2, \"moondata\": [{\"phen\": \"Rise\", \"time\": \"09:40\"}, {\"phen\": \"Upper Transit\", \"time\": \"15:57\"}, {\"phen\": \"Set\", \"time\": \"22:24\"}], \"sundata\": [{\"phen\": \"Begin Civil Twilight\", \"time\": \"06:33\"}, {\"phen\": \"Rise\", \"time\": \"07:01\"}, {\"phen\": \"Upper Transit\", \"time\": \"12:09\"}, {\"phen\": \"Set\", \"time\": \"17:17\"}, {\"phen\": \"End Civil Twilight\", \"time\": \"17:46\"}], \"tz\": -5.0, \"year\": 2022}}, \"type\": \"Feature\"}\n"
     ]
    }
   ],
   "source": [
    "# Launch the following simple server\n",
    "# python -m http.server --bind localhost --cgi 8000\n",
    "\n",
    "import json\n",
    "# import cgi\n",
    "# A logging tool for debugging.\n",
    "# dbgReport = None\n",
    "\n",
    "# import urllib library\n",
    "from urllib.request import urlopen\n",
    "\n",
    "###\n",
    "# Time libraries we are very dependant on 'aware' times. Most bugs have been traced back\n",
    "# to a misunderstanding of how important that times be 'aware'.\n",
    "from datetime import tzinfo, timedelta, datetime, date\n",
    "from pytz import timezone  # should already be part of pandas but it doesn't hurt to do it again.\n",
    "from dateutil import parser\n",
    "import time\n",
    "EST = timezone('America/New_York')\n",
    "\n",
    "##\n",
    "#  Returns the appropriate string value for the REST call\n",
    "##\n",
    "def isDST(theDate):\n",
    "    earlyDate = datetime(theDate.year, 2, 13, 2, tzinfo=EST)\n",
    "    lateDate  = datetime(theDate.year, 10, 6, 2, tzinfo=EST)\n",
    "\n",
    "    if theDate > earlyDate and theDate <= lateDate:\n",
    "        return \"true\"\n",
    "    return \"false\"\n",
    "\n",
    "###\n",
    "#  Fetch the data from the data from the USNO server\n",
    "###\n",
    "def fetchOneDayData(theDate, latlong=\"40.93,-73.76\", timezone=\"-5\"):\n",
    "    date = theDate.strftime(\"%m/%d/%Y\")\n",
    "    dst = isDST(theDate)\n",
    "    id = \"HHYC_019E3\"\n",
    "\n",
    "    url = f\"https://aa.usno.navy.mil/api/rstt/oneday?id={id}&date={date}&coords={latlong}&tz={timezone}&dst={dst}\"\n",
    "    # dbgReport.write(f\"--- {url}\\r\")\n",
    "    print(url)\n",
    "    # store the response of URL\n",
    "    response = urlopen(url)\n",
    "\n",
    "    # storing the JSON response from url in data\n",
    "    return json.loads(response.read())\n",
    "\n",
    "################################################################\n",
    "\n",
    "# simulated input comment the next 4 lines when running standalone... fix the '.value' entries below.\n",
    "fs = { \"date\":   \"2/5/2022\", \"coords\": \"40.93,-73.76\", }\n",
    "\n",
    "theDate = datetime.now(tz=EST)\n",
    "\n",
    "coord = \"40.93,-73.76\"  # default location\n",
    "tz = \"-5\" # default timezone\n",
    "\n",
    "if \"date\" in fs:\n",
    "    passedDate = fs['date'] #.value\n",
    "    theDate = datetime.strptime(passedDate, \"%m/%d/%Y\").replace(tzinfo=EST)\n",
    "\n",
    "if \"coords\" in fs:\n",
    "    coord = fs['coords'] #.value\n",
    "\n",
    "if \"tz\" in fs:\n",
    "    tz = fs['tz'] #.value\n",
    "\n",
    "result = fetchOneDayData(theDate, latlong=coord, timezone=tz)\n",
    "\n",
    "\n",
    "print(\"Content-Type: application/json\\n\")\n",
    "print(json.dumps(result))\n"
   ]
  },
  {
   "cell_type": "markdown",
   "metadata": {},
   "source": [
    "## Extracting Graphical Data"
   ]
  },
  {
   "cell_type": "markdown",
   "metadata": {},
   "source": [
    "Execution rocks only provide png graphics so the question is: can we dice up the pngs to get what we want for wind and waves?"
   ]
  },
  {
   "cell_type": "code",
   "execution_count": 1,
   "metadata": {},
   "outputs": [],
   "source": [
    "executionWeather = \"https://clydebank.dms.uconn.edu/exrx_wxSens.png\"\n",
    "executionWaves = \"https://clydebank.dms.uconn.edu/exrx_wavs.png\""
   ]
  },
  {
   "cell_type": "code",
   "execution_count": null,
   "metadata": {},
   "outputs": [],
   "source": [
    "import requests\n",
    "from PIL import Image\n",
    "from io import BytesIO\n",
    "\n",
    "def fetch_and_crop_image(url, xs, ys, width, height):\n",
    "    # Fetch the image from the web\n",
    "    response = requests.get(url)\n",
    "    img = Image.open(BytesIO(response.content))\n",
    "\n",
    "    # Crop the image\n",
    "    cropped_img = img.crop((xs, ys, xs + width, ys + height))\n",
    "\n",
    "    return cropped_img\n"
   ]
  },
  {
   "cell_type": "code",
   "execution_count": 10,
   "metadata": {},
   "outputs": [],
   "source": [
    "# Weather Panel:\n",
    "xs, ys, width, height = 0, 0, 640, 480\n",
    "cropped_image = fetch_and_crop_image(executionWeather, xs, ys, width, height)\n",
    "# Display the cropped image\n",
    "cropped_image.show()\n",
    "\n",
    "# Wave Panel:\n",
    "cropped_image = fetch_and_crop_image(executionWaves, xs, ys, width, height)\n",
    "# Display the cropped image\n",
    "cropped_image.show()"
   ]
  },
  {
   "cell_type": "code",
   "execution_count": 17,
   "metadata": {},
   "outputs": [],
   "source": [
    "# Time Slugs:\n",
    "xs, ys, width, height = 98, 64, 197, 18\n",
    "cropped_image = fetch_and_crop_image(executionWeather, xs, ys, width, height)\n",
    "# Display the cropped image\n",
    "cropped_image.show()\n",
    "\n",
    "# Wave Panel:\n",
    "cropped_image = fetch_and_crop_image(executionWaves, xs, ys, width, height)\n",
    "# Display the cropped image\n",
    "cropped_image.show()"
   ]
  },
  {
   "cell_type": "code",
   "execution_count": 19,
   "metadata": {},
   "outputs": [],
   "source": [
    "# Wind Panel:\n",
    "xs, ys, width, height = 0, 110, 350, 360\n",
    "cropped_image = fetch_and_crop_image(executionWeather, xs, ys, width, height)\n",
    "\n",
    "# Display the cropped image\n",
    "cropped_image.show()"
   ]
  },
  {
   "cell_type": "code",
   "execution_count": 3,
   "metadata": {},
   "outputs": [],
   "source": [
    "# Temp Data:\n",
    "xs, ys, width, height = 350, 110, 280, 270\n",
    "cropped_image = fetch_and_crop_image(executionWeather, xs, ys, width, height)\n",
    "\n",
    "# Display the cropped image\n",
    "cropped_image.show()"
   ]
  },
  {
   "cell_type": "code",
   "execution_count": 20,
   "metadata": {},
   "outputs": [],
   "source": [
    "# Barometric Data:\n",
    "xs, ys, width, height = 350, 390, 280, 80\n",
    "cropped_image = fetch_and_crop_image(executionWeather, xs, ys, width, height)\n",
    "\n",
    "# Display the cropped image\n",
    "cropped_image.show()"
   ]
  },
  {
   "cell_type": "code",
   "execution_count": 9,
   "metadata": {},
   "outputs": [],
   "source": [
    "# Wave Data:\n",
    "xs, ys, width, height = 30, 110, 380, 270\n",
    "cropped_image = fetch_and_crop_image(executionWaves, xs, ys, width, height)\n",
    "\n",
    "# Display the cropped image\n",
    "cropped_image.show()\n"
   ]
  },
  {
   "cell_type": "code",
   "execution_count": null,
   "metadata": {},
   "outputs": [],
   "source": []
  }
 ],
 "metadata": {
  "colab": {
   "authorship_tag": "ABX9TyOvgfUKL3+ZPf0yY5h632Y5",
   "collapsed_sections": [
    "oj7ZxULV7GIO",
    "cguQKaUaPsw4",
    "wGVAbjecda3F"
   ],
   "mount_file_id": "1C1tKJWsLo6kMBGqas3NBwlvwac2YdL-O",
   "name": "Tides.ipynb",
   "provenance": []
  },
  "kernelspec": {
   "display_name": ".venv",
   "language": "python",
   "name": "python3"
  },
  "language_info": {
   "codemirror_mode": {
    "name": "ipython",
    "version": 3
   },
   "file_extension": ".py",
   "mimetype": "text/x-python",
   "name": "python",
   "nbconvert_exporter": "python",
   "pygments_lexer": "ipython3",
   "version": "3.10.12"
  }
 },
 "nbformat": 4,
 "nbformat_minor": 0
}
